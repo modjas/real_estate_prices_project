{
 "cells": [
  {
   "cell_type": "markdown",
   "metadata": {},
   "source": [
    "# Price per square meter as a function of apartment size in the Finnish real-estate market"
   ]
  },
  {
   "cell_type": "markdown",
   "metadata": {},
   "source": [
    "Based on browsing apartment ads it seems that small apartments are more expensive per square meter than larger apartments. I wanted to find out if this is true, and quantify the results.\n",
    "\n",
    "The data is scraped from https://asuntojen.hintatiedot.fi/haku/."
   ]
  },
  {
   "cell_type": "markdown",
   "metadata": {},
   "source": [
    "## Part 1: Gathering data"
   ]
  },
  {
   "cell_type": "code",
   "execution_count": 2,
   "metadata": {},
   "outputs": [],
   "source": [
    "import requests\n",
    "from bs4 import BeautifulSoup\n",
    "import pandas as pd\n",
    "import matplotlib.pyplot as plt\n",
    "import numpy as np\n",
    "from sklearn.model_selection import train_test_split"
   ]
  },
  {
   "cell_type": "code",
   "execution_count": 3,
   "metadata": {},
   "outputs": [],
   "source": [
    "#TODO\n",
    "\n",
    "# 1. Avoid '\\xa0 in parsing'"
   ]
  },
  {
   "cell_type": "code",
   "execution_count": 4,
   "metadata": {},
   "outputs": [],
   "source": [
    "def parse_website(postal_code):\n",
    "    '''\n",
    "    Connects to asuntojen.hintatiedot.fi and pulls data on sold apartments from the last 12 months.\n",
    "    \n",
    "    \n",
    "    Parameters:\n",
    "    postal_code (str): Postal area code to get data for\n",
    "    \n",
    "    Returns:\n",
    "    Nested list with apartment data\n",
    "    \n",
    "    '''\n",
    "    URL = 'https://asuntojen.hintatiedot.fi/haku/?c=&cr=1&ps=' + postal_code + '&nc=0&amin=&amax=&renderType=renderTypeTable&search=1'\n",
    "    \n",
    "    page = requests.get(URL)\n",
    "\n",
    "    soup = BeautifulSoup(page.content, 'html.parser')\n",
    "\n",
    "    main_table = soup.find(id='mainTable')\n",
    "\n",
    "    apartments = main_table.find_all('tr', class_=\"\")\n",
    "    \n",
    "    \n",
    "    local_area_apartments = []\n",
    "    for a in apartments[4:-2]: # First 4 and last 2 'td' tags are not apartment information\n",
    "        elements = a.find_all('td')\n",
    "\n",
    "        parsed_apartment = [element.text.replace(\"\\xa0\", \"\") for element in elements]\n",
    "        \n",
    "        if len(parsed_apartment) < 2:\n",
    "            continue\n",
    "        parsed_apartment[3] = parsed_apartment[3].replace(\",\", \".\") #Change to international decimal delimiter\n",
    "        #parsed_apartment[9] = parsed_apartment[9].replace(\"\\xa0\", \"\") #Change to international decimal delimiter\n",
    "        parsed_apartment[10] = parsed_apartment[10].split(\"\\t\")[0] #Weird formatting in source website\n",
    "        parsed_apartment.append(postal_code)\n",
    "        local_area_apartments.append(parsed_apartment)\n",
    "        \n",
    "    return local_area_apartments\n",
    "    "
   ]
  },
  {
   "cell_type": "code",
   "execution_count": 5,
   "metadata": {},
   "outputs": [
    {
     "name": "stdout",
     "output_type": "stream",
     "text": [
      "Parsed 0/90 postal codes\n",
      "Parsed 10/90 postal codes\n",
      "Parsed 20/90 postal codes\n",
      "Parsed 30/90 postal codes\n",
      "Parsed 40/90 postal codes\n",
      "Parsed 50/90 postal codes\n",
      "Parsed 60/90 postal codes\n",
      "Parsed 70/90 postal codes\n",
      "Parsed 80/90 postal codes\n",
      "Parsed all postal codes\n"
     ]
    }
   ],
   "source": [
    "parsed_apartments = []\n",
    "postal_codes = ['00'+str(10*i) for i in range(10,100)] #All Helsinki postal codes\n",
    "\n",
    "count = 0\n",
    "for postal_code in postal_codes:\n",
    "    apartments = parse_website(postal_code)\n",
    "    for apartment in apartments:\n",
    "        parsed_apartments.append(apartment)\n",
    "    if count%10 == 0:\n",
    "        print(f\"Parsed {count}/{len(postal_codes)} postal codes\")\n",
    "    count += 1\n",
    "print(\"Parsed all postal codes\")"
   ]
  },
  {
   "cell_type": "code",
   "execution_count": 6,
   "metadata": {},
   "outputs": [],
   "source": [
    "columns = ['neighborhood', 'apartment_type', 'house_type', 'sqm', 'price', 'price_per_sqm', 'year_built', 'floor', 'elevator', 'condition', 'plot_ownership', 'energy_class', 'postal_code']\n",
    "df = pd.DataFrame(parsed_apartments,columns=columns)\n",
    "\n",
    "to_numeric_columns = ['sqm', 'price', 'price_per_sqm', 'year_built']\n",
    "for column in to_numeric_columns:\n",
    "    df[column] = pd.to_numeric(df[column])\n",
    "\n",
    "#Outputting data to .csv file in order to save data and avoid the need to pull data again\n",
    "df.to_csv(\"apartment_prices.csv\")"
   ]
  },
  {
   "cell_type": "code",
   "execution_count": 7,
   "metadata": {},
   "outputs": [
    {
     "data": {
      "text/html": [
       "<div>\n",
       "<style scoped>\n",
       "    .dataframe tbody tr th:only-of-type {\n",
       "        vertical-align: middle;\n",
       "    }\n",
       "\n",
       "    .dataframe tbody tr th {\n",
       "        vertical-align: top;\n",
       "    }\n",
       "\n",
       "    .dataframe thead th {\n",
       "        text-align: right;\n",
       "    }\n",
       "</style>\n",
       "<table border=\"1\" class=\"dataframe\">\n",
       "  <thead>\n",
       "    <tr style=\"text-align: right;\">\n",
       "      <th></th>\n",
       "      <th>neighborhood</th>\n",
       "      <th>apartment_type</th>\n",
       "      <th>house_type</th>\n",
       "      <th>sqm</th>\n",
       "      <th>price</th>\n",
       "      <th>price_per_sqm</th>\n",
       "      <th>year_built</th>\n",
       "      <th>floor</th>\n",
       "      <th>elevator</th>\n",
       "      <th>condition</th>\n",
       "      <th>plot_ownership</th>\n",
       "      <th>energy_class</th>\n",
       "      <th>postal_code</th>\n",
       "    </tr>\n",
       "  </thead>\n",
       "  <tbody>\n",
       "    <tr>\n",
       "      <td>0</td>\n",
       "      <td>Etu-töölö</td>\n",
       "      <td>1h, avok, kph, kht</td>\n",
       "      <td>kt</td>\n",
       "      <td>24.0</td>\n",
       "      <td>217000</td>\n",
       "      <td>9042</td>\n",
       "      <td>1929</td>\n",
       "      <td>6/7</td>\n",
       "      <td>on</td>\n",
       "      <td>hyvä</td>\n",
       "      <td>oma</td>\n",
       "      <td>E2018</td>\n",
       "      <td>00100</td>\n",
       "    </tr>\n",
       "    <tr>\n",
       "      <td>1</td>\n",
       "      <td>Etu-töölö</td>\n",
       "      <td>1h, kk</td>\n",
       "      <td>kt</td>\n",
       "      <td>28.0</td>\n",
       "      <td>260000</td>\n",
       "      <td>9286</td>\n",
       "      <td>1927</td>\n",
       "      <td>1/6</td>\n",
       "      <td>on</td>\n",
       "      <td>tyyd.</td>\n",
       "      <td>oma</td>\n",
       "      <td>F2013</td>\n",
       "      <td>00100</td>\n",
       "    </tr>\n",
       "    <tr>\n",
       "      <td>2</td>\n",
       "      <td>Etu-töölö</td>\n",
       "      <td>1h+k</td>\n",
       "      <td>kt</td>\n",
       "      <td>41.0</td>\n",
       "      <td>320000</td>\n",
       "      <td>7805</td>\n",
       "      <td>1911</td>\n",
       "      <td>2/5</td>\n",
       "      <td>ei</td>\n",
       "      <td>hyvä</td>\n",
       "      <td>oma</td>\n",
       "      <td>E2018</td>\n",
       "      <td>00100</td>\n",
       "    </tr>\n",
       "    <tr>\n",
       "      <td>3</td>\n",
       "      <td>Töölö</td>\n",
       "      <td>1h,ikk.kk,kh</td>\n",
       "      <td>kt</td>\n",
       "      <td>23.0</td>\n",
       "      <td>226000</td>\n",
       "      <td>9826</td>\n",
       "      <td>1934</td>\n",
       "      <td>1/3</td>\n",
       "      <td>ei</td>\n",
       "      <td>tyyd.</td>\n",
       "      <td>oma</td>\n",
       "      <td>D2013</td>\n",
       "      <td>00100</td>\n",
       "    </tr>\n",
       "    <tr>\n",
       "      <td>4</td>\n",
       "      <td>Keskusta</td>\n",
       "      <td>1h,k</td>\n",
       "      <td>kt</td>\n",
       "      <td>47.9</td>\n",
       "      <td>500000</td>\n",
       "      <td>10438</td>\n",
       "      <td>1905</td>\n",
       "      <td>3/3</td>\n",
       "      <td>ei</td>\n",
       "      <td>tyyd.</td>\n",
       "      <td>oma</td>\n",
       "      <td>G</td>\n",
       "      <td>00100</td>\n",
       "    </tr>\n",
       "  </tbody>\n",
       "</table>\n",
       "</div>"
      ],
      "text/plain": [
       "  neighborhood      apartment_type house_type   sqm   price  price_per_sqm  \\\n",
       "0    Etu-töölö  1h, avok, kph, kht         kt  24.0  217000           9042   \n",
       "1    Etu-töölö              1h, kk         kt  28.0  260000           9286   \n",
       "2    Etu-töölö                1h+k         kt  41.0  320000           7805   \n",
       "3        Töölö        1h,ikk.kk,kh         kt  23.0  226000           9826   \n",
       "4     Keskusta                1h,k         kt  47.9  500000          10438   \n",
       "\n",
       "   year_built floor elevator condition plot_ownership energy_class postal_code  \n",
       "0        1929   6/7       on      hyvä            oma        E2018       00100  \n",
       "1        1927   1/6       on     tyyd.            oma        F2013       00100  \n",
       "2        1911   2/5       ei      hyvä            oma        E2018       00100  \n",
       "3        1934   1/3       ei     tyyd.            oma        D2013       00100  \n",
       "4        1905   3/3       ei     tyyd.            oma            G       00100  "
      ]
     },
     "execution_count": 7,
     "metadata": {},
     "output_type": "execute_result"
    }
   ],
   "source": [
    "df.head()"
   ]
  },
  {
   "cell_type": "markdown",
   "metadata": {},
   "source": [
    "## Part 2: Simple prediction solution including data preprocessing"
   ]
  },
  {
   "cell_type": "code",
   "execution_count": 9,
   "metadata": {},
   "outputs": [
    {
     "name": "stdout",
     "output_type": "stream",
     "text": [
      "Count of values in column floor = 26\n",
      "Count of values in column condition = 28\n",
      "Count of values in column plot_ownership = 21\n"
     ]
    }
   ],
   "source": [
    "# We will use house type, sqm, price, year_built, floor, elevator, condition, plot_ownership and postal_code\n",
    "# To predict the price_per_sqm\n",
    "cols = ['price_per_sqm','house_type', 'sqm', 'price', 'year_built', 'floor', 'elevator', 'condition', 'plot_ownership', 'postal_code']\n",
    "df_ml = df[cols].copy(deep=True)\n",
    "df_ml.replace('', np.nan, inplace=True)\n",
    "\n",
    "\n",
    "#Find columns with missing values\n",
    "columns_with_missing_values = [col for col in df_ml.columns if df_ml[col].isna().any()]\n",
    "\n",
    "for col in columns_with_missing_values:\n",
    "    print(f\"Count of values in column {col} = {df_ml[df_ml[col].isna()].index.size}\")\n",
    "\n",
    "#As the count of rows containing missing values is somewhat low, the corresponding rows are dropped\n",
    "df_ml.dropna(axis=0, inplace=True)"
   ]
  },
  {
   "cell_type": "code",
   "execution_count": 10,
   "metadata": {},
   "outputs": [],
   "source": [
    "# We will use house type, sqm, price, year_built, floor, elevator, condition, plot_ownership and postal_code\n",
    "# To predict the price_per_sqm\n",
    "\n",
    "def parse_floor(row):\n",
    "    '''\n",
    "    Converts the string describing current and total floors to usable features.\n",
    "    '''\n",
    "    floors = row['floor'].split('/')\n",
    "    try:\n",
    "        row['floors'] = float(floors[1])\n",
    "        row['current_floor'] = float(floors[0])\n",
    "        row['floor_ratio'] = float(floors[0])/float(floors[1])\n",
    "    except:\n",
    "        pass\n",
    "    return row\n",
    "\n",
    "df_ml['floors'] = pd.Series()\n",
    "df_ml['current_floor'] = pd.Series()\n",
    "df_ml['floor_ratio'] = pd.Series()\n",
    "\n",
    "df_ml = df_ml.apply(parse_floor, axis='columns')\n",
    "\n",
    "features = df_ml.drop(['price_per_sqm', 'floor', 'price'], axis=1)\n",
    "labels = df_ml['price_per_sqm']\n",
    "\n",
    "features_train, features_test, labels_train, labels_test = train_test_split(features, labels, random_state=0) "
   ]
  },
  {
   "cell_type": "code",
   "execution_count": 12,
   "metadata": {
    "scrolled": true
   },
   "outputs": [
    {
     "name": "stderr",
     "output_type": "stream",
     "text": [
      "/Users/mathias/anaconda3/lib/python3.6/site-packages/sklearn/ensemble/forest.py:245: FutureWarning: The default value of n_estimators will change from 10 in version 0.20 to 100 in 0.22.\n",
      "  \"10 in version 0.20 to 100 in 0.22.\", FutureWarning)\n"
     ]
    },
    {
     "name": "stdout",
     "output_type": "stream",
     "text": [
      "[0.74979381 0.74672617 0.77188487 0.7510395  0.76207155]\n"
     ]
    }
   ],
   "source": [
    "from sklearn.preprocessing import OneHotEncoder\n",
    "from sklearn.preprocessing import OrdinalEncoder\n",
    "from sklearn.pipeline import Pipeline\n",
    "from sklearn.compose import ColumnTransformer\n",
    "from sklearn.model_selection import cross_val_score, GridSearchCV\n",
    "from sklearn.ensemble import RandomForestRegressor\n",
    "\n",
    "ordinal_cols = ['elevator', 'condition', 'plot_ownership']\n",
    "categorical_cols = ['house_type', 'postal_code']\n",
    "\n",
    "ordinal_transformer = Pipeline(steps=[('ordinal', OrdinalEncoder())])\n",
    "categorical_transformer = Pipeline(steps=[('onehot', OneHotEncoder(handle_unknown='ignore'))])\n",
    "\n",
    "preprocessor = ColumnTransformer(\n",
    "    transformers = [\n",
    "        ('ord', ordinal_transformer, ordinal_cols),\n",
    "        ('cat', categorical_transformer, categorical_cols)\n",
    "    ])\n",
    "\n",
    "\n",
    "model = RandomForestRegressor()\n",
    "my_pipeline = Pipeline(steps=[('preprocessor', preprocessor),\n",
    "                                ('model', model)])\n",
    "my_pipeline.fit(features_train, labels_train)\n",
    "\n",
    "score = cross_val_score(my_pipeline, features_train, labels_train, cv=5, scoring='r2')\n",
    "print(score)"
   ]
  },
  {
   "cell_type": "markdown",
   "metadata": {},
   "source": [
    "## Part n: Below testing, unfinished parts"
   ]
  },
  {
   "cell_type": "code",
   "execution_count": 13,
   "metadata": {
    "scrolled": true
   },
   "outputs": [
    {
     "data": {
      "text/plain": [
       "GridSearchCV(cv=5, error_score='raise-deprecating',\n",
       "             estimator=Pipeline(memory=None,\n",
       "                                steps=[('preprocessor',\n",
       "                                        ColumnTransformer(n_jobs=None,\n",
       "                                                          remainder='drop',\n",
       "                                                          sparse_threshold=0.3,\n",
       "                                                          transformer_weights=None,\n",
       "                                                          transformers=[('ord',\n",
       "                                                                         Pipeline(memory=None,\n",
       "                                                                                  steps=[('ordinal',\n",
       "                                                                                          OrdinalEncoder(categories='auto',\n",
       "                                                                                                         dtype=<class 'numpy.float64'>))],\n",
       "                                                                                  verbose=False),\n",
       "                                                                         ['elevator',\n",
       "                                                                          '...\n",
       "                                                              min_impurity_split=None,\n",
       "                                                              min_samples_leaf=1,\n",
       "                                                              min_samples_split=2,\n",
       "                                                              min_weight_fraction_leaf=0.0,\n",
       "                                                              n_estimators=10,\n",
       "                                                              n_jobs=None,\n",
       "                                                              oob_score=False,\n",
       "                                                              random_state=None,\n",
       "                                                              verbose=0,\n",
       "                                                              warm_start=False))],\n",
       "                                verbose=False),\n",
       "             iid='warn', n_jobs=None,\n",
       "             param_grid={'model__n_estimators': [40, 60, 80, 100, 120, 140, 160,\n",
       "                                                 180]},\n",
       "             pre_dispatch='2*n_jobs', refit=True, return_train_score=False,\n",
       "             scoring='r2', verbose=0)"
      ]
     },
     "execution_count": 13,
     "metadata": {},
     "output_type": "execute_result"
    }
   ],
   "source": [
    "parameters = {'model__n_estimators': [40, 60, 80, 100, 120, 140, 160, 180]}\n",
    "CV = GridSearchCV(my_pipeline, parameters, scoring = 'r2', cv=5)\n",
    "CV.fit(features_train, labels_train)"
   ]
  },
  {
   "cell_type": "code",
   "execution_count": 14,
   "metadata": {},
   "outputs": [
    {
     "data": {
      "text/plain": [
       "{'model__n_estimators': 140}"
      ]
     },
     "execution_count": 14,
     "metadata": {},
     "output_type": "execute_result"
    }
   ],
   "source": [
    "CV.best_params_"
   ]
  },
  {
   "cell_type": "code",
   "execution_count": 393,
   "metadata": {},
   "outputs": [
    {
     "data": {
      "text/plain": [
       "77"
      ]
     },
     "execution_count": 393,
     "metadata": {},
     "output_type": "execute_result"
    }
   ],
   "source": [
    "len(df_ml['postal_code'].unique())"
   ]
  },
  {
   "cell_type": "code",
   "execution_count": 15,
   "metadata": {},
   "outputs": [
    {
     "name": "stdout",
     "output_type": "stream",
     "text": [
      "[(0.1752, 'house_type'), (0.1439, 'year_built'), (0.0378, 'sqm'), (0.0264, 'elevator'), (0.0244, 'floor_ratio'), (0.0236, 'floors'), (0.0226, 'postal_code'), (0.0099, 'current_floor'), (0.0008, 'plot_ownership'), (0.0007, 'condition')]\n"
     ]
    }
   ],
   "source": [
    "print(sorted(zip(map(lambda x: round(x, 4), model.feature_importances_), features_train.columns), reverse=True))"
   ]
  },
  {
   "cell_type": "code",
   "execution_count": 16,
   "metadata": {},
   "outputs": [
    {
     "data": {
      "text/html": [
       "<div>\n",
       "<style scoped>\n",
       "    .dataframe tbody tr th:only-of-type {\n",
       "        vertical-align: middle;\n",
       "    }\n",
       "\n",
       "    .dataframe tbody tr th {\n",
       "        vertical-align: top;\n",
       "    }\n",
       "\n",
       "    .dataframe thead th {\n",
       "        text-align: right;\n",
       "    }\n",
       "</style>\n",
       "<table border=\"1\" class=\"dataframe\">\n",
       "  <thead>\n",
       "    <tr style=\"text-align: right;\">\n",
       "      <th></th>\n",
       "      <th>house_type</th>\n",
       "      <th>sqm</th>\n",
       "      <th>year_built</th>\n",
       "      <th>elevator</th>\n",
       "      <th>condition</th>\n",
       "      <th>plot_ownership</th>\n",
       "      <th>postal_code</th>\n",
       "      <th>floors</th>\n",
       "      <th>current_floor</th>\n",
       "      <th>floor_ratio</th>\n",
       "    </tr>\n",
       "  </thead>\n",
       "  <tbody>\n",
       "    <tr>\n",
       "      <td>0</td>\n",
       "      <td>kt</td>\n",
       "      <td>42</td>\n",
       "      <td>1927</td>\n",
       "      <td>on</td>\n",
       "      <td>hyvä</td>\n",
       "      <td>oma</td>\n",
       "      <td>00100</td>\n",
       "      <td>7</td>\n",
       "      <td>3</td>\n",
       "      <td>0.428571</td>\n",
       "    </tr>\n",
       "  </tbody>\n",
       "</table>\n",
       "</div>"
      ],
      "text/plain": [
       "  house_type  sqm  year_built elevator condition plot_ownership postal_code  \\\n",
       "0         kt   42        1927       on      hyvä            oma       00100   \n",
       "\n",
       "   floors  current_floor  floor_ratio  \n",
       "0       7              3     0.428571  "
      ]
     },
     "execution_count": 16,
     "metadata": {},
     "output_type": "execute_result"
    }
   ],
   "source": [
    "# Example apartments\n",
    "\n",
    "toolo = {'house_type' : ['kt'],\n",
    "        'sqm': [42],\n",
    "        'year_built': [1927],\n",
    "        'elevator': ['on'],\n",
    "        'condition': ['hyvä'],\n",
    "        'plot_ownership':['oma'],\n",
    "        'postal_code':['00100'],\n",
    "        'floors':[7],\n",
    "        'current_floor':[3],\n",
    "        'floor_ratio':[3/7]}\n",
    "\n",
    "toolo_features = pd.DataFrame.from_dict(toolo)\n",
    "\n",
    "toolo_features"
   ]
  },
  {
   "cell_type": "code",
   "execution_count": 352,
   "metadata": {},
   "outputs": [
    {
     "data": {
      "text/plain": [
       "Text(0.5, 1.0, 'Apartment sqm price')"
      ]
     },
     "execution_count": 352,
     "metadata": {},
     "output_type": "execute_result"
    },
    {
     "data": {
      "image/png": "[encoded data removed]",
      "text/plain": [
       "<Figure size 432x288 with 1 Axes>"
      ]
     },
     "metadata": {
      "needs_background": "light"
     },
     "output_type": "display_data"
    }
   ],
   "source": [
    "plt.scatter(labels_test, model.predict(features_test))\n",
    "plt.xlabel('Labels')\n",
    "plt.ylabel('Predictions')\n",
    "plt.title('Apartment sqm price')"
   ]
  },
  {
   "cell_type": "markdown",
   "metadata": {},
   "source": [
    "## Part n+1 \n",
    "\n",
    "Choose relevant data\n",
    "- house_type = kt (apartment building)\n",
    "- condition = hyvä (good condition)\n",
    "- elevator = on (has elevator)\n",
    "- plot_ownership = oma (own plot)"
   ]
  },
  {
   "cell_type": "code",
   "execution_count": 129,
   "metadata": {},
   "outputs": [
    {
     "data": {
      "text/plain": [
       "postal_code\n",
       "00100    8702.550000\n",
       "00100    8702.550000\n",
       "00100    8702.550000\n",
       "00100    8702.550000\n",
       "00100    8702.550000\n",
       "            ...     \n",
       "00990    4957.264706\n",
       "00990    4957.264706\n",
       "00990    4957.264706\n",
       "00990    4957.264706\n",
       "00990    4957.264706\n",
       "Name: price_per_sqm, Length: 535, dtype: float64"
      ]
     },
     "execution_count": 129,
     "metadata": {},
     "output_type": "execute_result"
    }
   ],
   "source": [
    "avg_price_in_postal_code[df1.postal_code]"
   ]
  },
  {
   "cell_type": "code",
   "execution_count": 143,
   "metadata": {},
   "outputs": [
    {
     "name": "stderr",
     "output_type": "stream",
     "text": [
      "/Users/mathias/anaconda3/lib/python3.6/site-packages/ipykernel_launcher.py:5: SettingWithCopyWarning: \n",
      "A value is trying to be set on a copy of a slice from a DataFrame.\n",
      "Try using .loc[row_indexer,col_indexer] = value instead\n",
      "\n",
      "See the caveats in the documentation: http://pandas.pydata.org/pandas-docs/stable/user_guide/indexing.html#returning-a-view-versus-a-copy\n",
      "  \"\"\"\n"
     ]
    },
    {
     "data": {
      "text/plain": [
       "<matplotlib.collections.PathCollection at 0x126d3bb70>"
      ]
     },
     "execution_count": 143,
     "metadata": {},
     "output_type": "execute_result"
    },
    {
     "data": {
      "image/png": "[encoded data removed]",
      "text/plain": [
       "<Figure size 432x288 with 1 Axes>"
      ]
     },
     "metadata": {
      "needs_background": "light"
     },
     "output_type": "display_data"
    }
   ],
   "source": [
    "df1 = df[(df.house_type == 'kt') & (df.condition == 'hyvä') & (df.elevator == 'on') & (df.plot_ownership == 'oma')]\n",
    "\n",
    "avg_price_in_postal_code = df1.groupby('postal_code').price_per_sqm.mean()\n",
    "\n",
    "df1['normalized_sqm_price'] = np.zeros(len(df1))\n",
    "df1.normalized_sqm_price = df1.price_per_sqm / avg_price_in_postal_code[df1.postal_code].values\n",
    "#df1.price_per_sqm\n",
    "\n",
    "plt.scatter(df1.sqm, df1.normalized_sqm_price)"
   ]
  },
  {
   "cell_type": "code",
   "execution_count": 151,
   "metadata": {},
   "outputs": [
    {
     "data": {
      "text/plain": [
       "Text(0, 0.5, 'Cost per sqm')"
      ]
     },
     "execution_count": 151,
     "metadata": {},
     "output_type": "execute_result"
    },
    {
     "data": {
      "image/png": "[encoded data removed]",
      "text/plain": [
       "<Figure size 432x288 with 1 Axes>"
      ]
     },
     "metadata": {
      "needs_background": "light"
     },
     "output_type": "display_data"
    }
   ],
   "source": [
    "x = df.sqm.astype(float)\n",
    "y = df.price_per_sqm.astype(float)\n",
    "z = np.polyfit(x, y, 2)\n",
    "p = np.poly1d(z)\n",
    "s = np.linspace(0,160)\n",
    "\n",
    "plt.scatter(x, y)\n",
    "plt.plot(s, p(s))\n",
    "plt.xlabel('Size')\n",
    "plt.ylabel('Cost per sqm')"
   ]
  },
  {
   "cell_type": "markdown",
   "metadata": {},
   "source": [
    "## Part n+1: Testing sklearn pipeline"
   ]
  },
  {
   "cell_type": "code",
   "execution_count": 395,
   "metadata": {},
   "outputs": [],
   "source": [
    "from sklearn.pipeline import Pipeline\n",
    "from sklearn.compose import ColumnTransformer"
   ]
  },
  {
   "cell_type": "code",
   "execution_count": 415,
   "metadata": {},
   "outputs": [],
   "source": [
    "ordinal_transformer = Pipeline(steps=[\n",
    "    ('ordinal', OrdinalEncoder())\n",
    "])\n",
    "\n",
    "categorical_transformer = Pipeline(steps=[\n",
    "    ('onehot', OneHotEncoder(handle_unknown='ignore'))\n",
    "])\n",
    "\n",
    "\n",
    "\n",
    "preprocessor = ColumnTransformer(\n",
    "    transformers = [\n",
    "        ('ord', ordinal_transformer, ordinal_cols),\n",
    "        ('cat', categorical_transformer, categorical_cols)\n",
    "    ])"
   ]
  },
  {
   "cell_type": "code",
   "execution_count": 416,
   "metadata": {},
   "outputs": [],
   "source": [
    "model2 = RandomForestRegressor(n_estimators=100, random_state=0)\n",
    "my_pipeline = Pipeline(steps=[('preprocessor', preprocessor),\n",
    "                             ('model2', model2)])\n",
    "my_pipeline.fit(features_train, labels_train)"
   ]
  },
  {
   "cell_type": "code",
   "execution_count": 417,
   "metadata": {},
   "outputs": [],
   "source": [
    "my_pipeline = Pipeline(steps=[('preprocessor', preprocessor),\n",
    "                             ('model2', model2)])"
   ]
  },
  {
   "cell_type": "code",
   "execution_count": 418,
   "metadata": {
    "scrolled": false
   },
   "outputs": [
    {
     "data": {
      "text/plain": [
       "Pipeline(memory=None,\n",
       "         steps=[('preprocessor',\n",
       "                 ColumnTransformer(n_jobs=None, remainder='drop',\n",
       "                                   sparse_threshold=0.3,\n",
       "                                   transformer_weights=None,\n",
       "                                   transformers=[('ord',\n",
       "                                                  Pipeline(memory=None,\n",
       "                                                           steps=[('ordinal',\n",
       "                                                                   OrdinalEncoder(categories='auto',\n",
       "                                                                                  dtype=<class 'numpy.float64'>))],\n",
       "                                                           verbose=False),\n",
       "                                                  ['elevator', 'condition',\n",
       "                                                   'plot_ownership']),\n",
       "                                                 ('cat',\n",
       "                                                  Pipeline(memory=None,\n",
       "                                                           st...\n",
       "                                   verbose=False)),\n",
       "                ('model2',\n",
       "                 RandomForestRegressor(bootstrap=True, criterion='mse',\n",
       "                                       max_depth=None, max_features='auto',\n",
       "                                       max_leaf_nodes=None,\n",
       "                                       min_impurity_decrease=0.0,\n",
       "                                       min_impurity_split=None,\n",
       "                                       min_samples_leaf=1, min_samples_split=2,\n",
       "                                       min_weight_fraction_leaf=0.0,\n",
       "                                       n_estimators=100, n_jobs=None,\n",
       "                                       oob_score=False, random_state=0,\n",
       "                                       verbose=0, warm_start=False))],\n",
       "         verbose=False)"
      ]
     },
     "execution_count": 418,
     "metadata": {},
     "output_type": "execute_result"
    }
   ],
   "source": [
    "my_pipeline.fit(features_train, labels_train)"
   ]
  },
  {
   "cell_type": "code",
   "execution_count": 427,
   "metadata": {},
   "outputs": [
    {
     "data": {
      "text/plain": [
       "array([8889.32982375])"
      ]
     },
     "execution_count": 427,
     "metadata": {},
     "output_type": "execute_result"
    }
   ],
   "source": [
    "my_pipeline.predict(toolo_features)"
   ]
  },
  {
   "cell_type": "code",
   "execution_count": 422,
   "metadata": {},
   "outputs": [
    {
     "data": {
      "text/html": [
       "<div>\n",
       "<style scoped>\n",
       "    .dataframe tbody tr th:only-of-type {\n",
       "        vertical-align: middle;\n",
       "    }\n",
       "\n",
       "    .dataframe tbody tr th {\n",
       "        vertical-align: top;\n",
       "    }\n",
       "\n",
       "    .dataframe thead th {\n",
       "        text-align: right;\n",
       "    }\n",
       "</style>\n",
       "<table border=\"1\" class=\"dataframe\">\n",
       "  <thead>\n",
       "    <tr style=\"text-align: right;\">\n",
       "      <th></th>\n",
       "      <th>house_type</th>\n",
       "      <th>sqm</th>\n",
       "      <th>year_built</th>\n",
       "      <th>elevator</th>\n",
       "      <th>condition</th>\n",
       "      <th>plot_ownership</th>\n",
       "      <th>postal_code</th>\n",
       "      <th>floors</th>\n",
       "      <th>current_floor</th>\n",
       "      <th>floor_ratio</th>\n",
       "    </tr>\n",
       "  </thead>\n",
       "  <tbody>\n",
       "    <tr>\n",
       "      <td>1512</td>\n",
       "      <td>kt</td>\n",
       "      <td>76.8</td>\n",
       "      <td>1971</td>\n",
       "      <td>on</td>\n",
       "      <td>tyyd.</td>\n",
       "      <td>vuokra</td>\n",
       "      <td>00630</td>\n",
       "      <td>4.0</td>\n",
       "      <td>3.0</td>\n",
       "      <td>0.75</td>\n",
       "    </tr>\n",
       "    <tr>\n",
       "      <td>2548</td>\n",
       "      <td>kt</td>\n",
       "      <td>30.0</td>\n",
       "      <td>1980</td>\n",
       "      <td>ei</td>\n",
       "      <td>tyyd.</td>\n",
       "      <td>oma</td>\n",
       "      <td>00960</td>\n",
       "      <td>3.0</td>\n",
       "      <td>3.0</td>\n",
       "      <td>1.00</td>\n",
       "    </tr>\n",
       "    <tr>\n",
       "      <td>593</td>\n",
       "      <td>kt</td>\n",
       "      <td>68.5</td>\n",
       "      <td>1946</td>\n",
       "      <td>on</td>\n",
       "      <td>tyyd.</td>\n",
       "      <td>oma</td>\n",
       "      <td>00270</td>\n",
       "      <td>7.0</td>\n",
       "      <td>7.0</td>\n",
       "      <td>1.00</td>\n",
       "    </tr>\n",
       "    <tr>\n",
       "      <td>2579</td>\n",
       "      <td>kt</td>\n",
       "      <td>68.7</td>\n",
       "      <td>1964</td>\n",
       "      <td>on</td>\n",
       "      <td>hyvä</td>\n",
       "      <td>oma</td>\n",
       "      <td>00960</td>\n",
       "      <td>5.0</td>\n",
       "      <td>3.0</td>\n",
       "      <td>0.60</td>\n",
       "    </tr>\n",
       "    <tr>\n",
       "      <td>2543</td>\n",
       "      <td>ok</td>\n",
       "      <td>140.0</td>\n",
       "      <td>1965</td>\n",
       "      <td>ei</td>\n",
       "      <td>tyyd.</td>\n",
       "      <td>oma</td>\n",
       "      <td>00950</td>\n",
       "      <td>1.0</td>\n",
       "      <td>1.0</td>\n",
       "      <td>1.00</td>\n",
       "    </tr>\n",
       "    <tr>\n",
       "      <td>...</td>\n",
       "      <td>...</td>\n",
       "      <td>...</td>\n",
       "      <td>...</td>\n",
       "      <td>...</td>\n",
       "      <td>...</td>\n",
       "      <td>...</td>\n",
       "      <td>...</td>\n",
       "      <td>...</td>\n",
       "      <td>...</td>\n",
       "      <td>...</td>\n",
       "    </tr>\n",
       "    <tr>\n",
       "      <td>1762</td>\n",
       "      <td>kt</td>\n",
       "      <td>50.0</td>\n",
       "      <td>1969</td>\n",
       "      <td>on</td>\n",
       "      <td>hyvä</td>\n",
       "      <td>oma</td>\n",
       "      <td>00710</td>\n",
       "      <td>4.0</td>\n",
       "      <td>4.0</td>\n",
       "      <td>1.00</td>\n",
       "    </tr>\n",
       "    <tr>\n",
       "      <td>770</td>\n",
       "      <td>kt</td>\n",
       "      <td>55.2</td>\n",
       "      <td>1958</td>\n",
       "      <td>on</td>\n",
       "      <td>tyyd.</td>\n",
       "      <td>vuokra</td>\n",
       "      <td>00350</td>\n",
       "      <td>4.0</td>\n",
       "      <td>1.0</td>\n",
       "      <td>0.25</td>\n",
       "    </tr>\n",
       "    <tr>\n",
       "      <td>844</td>\n",
       "      <td>kt</td>\n",
       "      <td>47.5</td>\n",
       "      <td>2001</td>\n",
       "      <td>on</td>\n",
       "      <td>hyvä</td>\n",
       "      <td>oma</td>\n",
       "      <td>00380</td>\n",
       "      <td>5.0</td>\n",
       "      <td>4.0</td>\n",
       "      <td>0.80</td>\n",
       "    </tr>\n",
       "    <tr>\n",
       "      <td>1682</td>\n",
       "      <td>rt</td>\n",
       "      <td>97.0</td>\n",
       "      <td>1969</td>\n",
       "      <td>ei</td>\n",
       "      <td>tyyd.</td>\n",
       "      <td>oma</td>\n",
       "      <td>00680</td>\n",
       "      <td>1.0</td>\n",
       "      <td>1.0</td>\n",
       "      <td>1.00</td>\n",
       "    </tr>\n",
       "    <tr>\n",
       "      <td>2673</td>\n",
       "      <td>kt</td>\n",
       "      <td>62.0</td>\n",
       "      <td>1966</td>\n",
       "      <td>ei</td>\n",
       "      <td>hyvä</td>\n",
       "      <td>oma</td>\n",
       "      <td>00980</td>\n",
       "      <td>3.0</td>\n",
       "      <td>3.0</td>\n",
       "      <td>1.00</td>\n",
       "    </tr>\n",
       "  </tbody>\n",
       "</table>\n",
       "<p>2003 rows × 10 columns</p>\n",
       "</div>"
      ],
      "text/plain": [
       "     house_type    sqm  year_built elevator condition plot_ownership  \\\n",
       "1512         kt   76.8        1971       on     tyyd.         vuokra   \n",
       "2548         kt   30.0        1980       ei     tyyd.            oma   \n",
       "593          kt   68.5        1946       on     tyyd.            oma   \n",
       "2579         kt   68.7        1964       on      hyvä            oma   \n",
       "2543         ok  140.0        1965       ei     tyyd.            oma   \n",
       "...         ...    ...         ...      ...       ...            ...   \n",
       "1762         kt   50.0        1969       on      hyvä            oma   \n",
       "770          kt   55.2        1958       on     tyyd.         vuokra   \n",
       "844          kt   47.5        2001       on      hyvä            oma   \n",
       "1682         rt   97.0        1969       ei     tyyd.            oma   \n",
       "2673         kt   62.0        1966       ei      hyvä            oma   \n",
       "\n",
       "     postal_code  floors  current_floor  floor_ratio  \n",
       "1512       00630     4.0            3.0         0.75  \n",
       "2548       00960     3.0            3.0         1.00  \n",
       "593        00270     7.0            7.0         1.00  \n",
       "2579       00960     5.0            3.0         0.60  \n",
       "2543       00950     1.0            1.0         1.00  \n",
       "...          ...     ...            ...          ...  \n",
       "1762       00710     4.0            4.0         1.00  \n",
       "770        00350     4.0            1.0         0.25  \n",
       "844        00380     5.0            4.0         0.80  \n",
       "1682       00680     1.0            1.0         1.00  \n",
       "2673       00980     3.0            3.0         1.00  \n",
       "\n",
       "[2003 rows x 10 columns]"
      ]
     },
     "execution_count": 422,
     "metadata": {},
     "output_type": "execute_result"
    }
   ],
   "source": [
    "features_train"
   ]
  },
  {
   "cell_type": "code",
   "execution_count": 479,
   "metadata": {},
   "outputs": [],
   "source": [
    "harry = {'house_type' : ['rt'],\n",
    "        'sqm': [75],\n",
    "        'year_built': [2019],\n",
    "        'elevator': ['ei'],\n",
    "        'condition': ['hyvä'],\n",
    "        'plot_ownership':['vuokra'],\n",
    "        'postal_code':['02740'],\n",
    "        'floors':[2],\n",
    "        'current_floor':[2],\n",
    "        'floor_ratio':[1]}\n",
    "\n",
    "harry_features = pd.DataFrame.from_dict(toolo)"
   ]
  },
  {
   "cell_type": "code",
   "execution_count": 480,
   "metadata": {},
   "outputs": [
    {
     "data": {
      "text/plain": [
       "array([8840.28430655])"
      ]
     },
     "execution_count": 480,
     "metadata": {},
     "output_type": "execute_result"
    }
   ],
   "source": [
    "my_pipeline.predict(harry_features)"
   ]
  },
  {
   "cell_type": "code",
   "execution_count": null,
   "metadata": {},
   "outputs": [],
   "source": []
  }
 ],
 "metadata": {
  "kernelspec": {
   "display_name": "Python 3",
   "language": "python",
   "name": "python3"
  },
  "language_info": {
   "codemirror_mode": {
    "name": "ipython",
    "version": 3
   },
   "file_extension": ".py",
   "mimetype": "text/x-python",
   "name": "python",
   "nbconvert_exporter": "python",
   "pygments_lexer": "ipython3",
   "version": "3.6.9"
  }
 },
 "nbformat": 4,
 "nbformat_minor": 2
}
