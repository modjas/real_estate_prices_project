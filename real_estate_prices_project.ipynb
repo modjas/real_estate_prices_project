{
 "cells": [
  {
   "cell_type": "markdown",
   "metadata": {},
   "source": [
    "# Price per square meter as a function of apartment size in the Finnish real-estate market"
   ]
  },
  {
   "cell_type": "markdown",
   "metadata": {},
   "source": [
    "Based on browsing apartment ads it seems that small apartments are more expensive per square meter than larger apartments. I wanted to find out if this is true, and quantify the results.\n",
    "\n",
    "The data is scraped from https://asuntojen.hintatiedot.fi/haku/.\n",
    "\n",
    "The prediction process consists of preprocessing the data and using Random Forest and Light GBM classifiers"
   ]
  },
  {
   "cell_type": "markdown",
   "metadata": {},
   "source": [
    "## Part 1: Gathering data"
   ]
  },
  {
   "cell_type": "code",
   "execution_count": 2,
   "metadata": {},
   "outputs": [],
   "source": [
    "#Main package imports\n",
    "import requests\n",
    "from bs4 import BeautifulSoup\n",
    "import pandas as pd\n",
    "import matplotlib.pyplot as plt\n",
    "import numpy as np\n",
    "\n",
    "#ML data processing\n",
    "from sklearn.model_selection import train_test_split\n",
    "from sklearn.pipeline import Pipeline\n",
    "from sklearn.compose import ColumnTransformer\n",
    "from sklearn.preprocessing import OneHotEncoder, OrdinalEncoder, MinMaxScaler\n",
    "\n",
    "#ML models and hyperparameter optimisation\n",
    "from sklearn.linear_model import LinearRegression\n",
    "from sklearn.model_selection import cross_val_score, RandomizedSearchCV\n",
    "from sklearn.ensemble import RandomForestRegressor\n",
    "from lightgbm import LGBMRegressor\n",
    "\n",
    "#Feature importance\n",
    "import shap"
   ]
  },
  {
   "cell_type": "code",
   "execution_count": 3,
   "metadata": {},
   "outputs": [],
   "source": [
    "#TODO\n",
    "\n",
    "# 1. Avoid '\\xa0 in parsing'\n",
    "# 2. Cat boost for categorical variables?\n",
    "# 3. Try dropping postal codes with few apartments\n",
    "# 4. Try logarithmic scaler for labels"
   ]
  },
  {
   "cell_type": "code",
   "execution_count": 4,
   "metadata": {},
   "outputs": [],
   "source": [
    "def parse_website(postal_code):\n",
    "    '''\n",
    "    Connects to asuntojen.hintatiedot.fi and pulls data on sold apartments from the last 12 months.\n",
    "    \n",
    "    \n",
    "    Parameters:\n",
    "    postal_code (str): Postal area code to get data for\n",
    "    \n",
    "    Returns:\n",
    "    Nested list with apartment data\n",
    "    \n",
    "    '''\n",
    "    URL = 'https://asuntojen.hintatiedot.fi/haku/?c=&cr=1&ps=' + postal_code + '&nc=0&amin=&amax=&renderType=renderTypeTable&search=1'\n",
    "    \n",
    "    page = requests.get(URL)\n",
    "\n",
    "    soup = BeautifulSoup(page.content, 'html.parser')\n",
    "\n",
    "    main_table = soup.find(id='mainTable')\n",
    "\n",
    "    apartments = main_table.find_all('tr', class_=\"\")\n",
    "    \n",
    "    \n",
    "    local_area_apartments = []\n",
    "    for a in apartments[4:-2]: # First 4 and last 2 'td' tags are not apartment information\n",
    "        elements = a.find_all('td')\n",
    "\n",
    "        parsed_apartment = [element.text.replace(\"\\xa0\", \"\") for element in elements]\n",
    "        \n",
    "        if len(parsed_apartment) < 2:\n",
    "            continue\n",
    "        parsed_apartment[3] = parsed_apartment[3].replace(\",\", \".\") #Change to international decimal delimiter\n",
    "        parsed_apartment[10] = parsed_apartment[10].split(\"\\t\")[0] #Weird formatting in source website\n",
    "        parsed_apartment.append(postal_code)\n",
    "        local_area_apartments.append(parsed_apartment)\n",
    "        \n",
    "    return local_area_apartments\n",
    "    "
   ]
  },
  {
   "cell_type": "code",
   "execution_count": 109,
   "metadata": {
    "scrolled": false
   },
   "outputs": [
    {
     "name": "stdout",
     "output_type": "stream",
     "text": [
      "Parsed 0/235 postal codes\n",
      "Parsed 10/235 postal codes\n",
      "Parsed 20/235 postal codes\n",
      "Parsed 30/235 postal codes\n",
      "Parsed 40/235 postal codes\n",
      "Parsed 50/235 postal codes\n",
      "Parsed 60/235 postal codes\n",
      "Parsed 70/235 postal codes\n",
      "Parsed 80/235 postal codes\n",
      "Parsed 90/235 postal codes\n",
      "Parsed 100/235 postal codes\n",
      "Parsed 110/235 postal codes\n",
      "Parsed 120/235 postal codes\n",
      "Parsed 130/235 postal codes\n",
      "Parsed 140/235 postal codes\n",
      "Parsed 150/235 postal codes\n",
      "Parsed 160/235 postal codes\n",
      "Parsed 170/235 postal codes\n",
      "Parsed 180/235 postal codes\n",
      "Parsed 190/235 postal codes\n",
      "Parsed 200/235 postal codes\n",
      "Parsed 210/235 postal codes\n",
      "Parsed 220/235 postal codes\n",
      "Parsed 230/235 postal codes\n",
      "Parsed all postal codes\n"
     ]
    }
   ],
   "source": [
    "#Create list of postal codes\n",
    "#TODO Include only real postal codes, now contains some non-existant\n",
    "parsed_apartments = []\n",
    "postal_codes_helsinki = ['00'+str(10*i) for i in range(10,100)] #All Helsinki postal codes\n",
    "postal_codes_espoo = ['0'+str(10*i) for i in range(210,298)]\n",
    "postal_codes_vantaa = ['0'+str(10*i) for i in range(120,177)]\n",
    "\n",
    "postal_codes = postal_codes_helsinki + postal_codes_espoo + postal_codes_vantaa\n",
    "\n",
    "#Loop over postal codes and scrape data\n",
    "count = 0\n",
    "for postal_code in postal_codes:\n",
    "    apartments = parse_website(postal_code)\n",
    "    for apartment in apartments:\n",
    "        parsed_apartments.append(apartment)\n",
    "    if count%10 == 0:\n",
    "        print(f\"Parsed {count}/{len(postal_codes)} postal codes\")\n",
    "    count += 1\n",
    "print(\"Parsed all postal codes\")"
   ]
  },
  {
   "cell_type": "code",
   "execution_count": 110,
   "metadata": {},
   "outputs": [],
   "source": [
    "#Convert scraped data into pandas dataframe\n",
    "columns = ['neighborhood', 'apartment_type', 'house_type', 'sqm', 'price', 'price_per_sqm', 'year_built', 'floor', 'elevator', 'condition', 'plot_ownership', 'energy_class', 'postal_code']\n",
    "df = pd.DataFrame(parsed_apartments,columns=columns)\n",
    "\n",
    "to_numeric_columns = ['sqm', 'price', 'price_per_sqm', 'year_built']\n",
    "for column in to_numeric_columns:\n",
    "    df[column] = pd.to_numeric(df[column])\n",
    "\n",
    "#Outputting data to .csv file in order to save data and avoid the need to pull data again\n",
    "df.to_csv(\"apartment_prices.csv\")"
   ]
  },
  {
   "cell_type": "code",
   "execution_count": 111,
   "metadata": {},
   "outputs": [
    {
     "data": {
      "text/html": [
       "<div>\n",
       "<style scoped>\n",
       "    .dataframe tbody tr th:only-of-type {\n",
       "        vertical-align: middle;\n",
       "    }\n",
       "\n",
       "    .dataframe tbody tr th {\n",
       "        vertical-align: top;\n",
       "    }\n",
       "\n",
       "    .dataframe thead th {\n",
       "        text-align: right;\n",
       "    }\n",
       "</style>\n",
       "<table border=\"1\" class=\"dataframe\">\n",
       "  <thead>\n",
       "    <tr style=\"text-align: right;\">\n",
       "      <th></th>\n",
       "      <th>neighborhood</th>\n",
       "      <th>apartment_type</th>\n",
       "      <th>house_type</th>\n",
       "      <th>sqm</th>\n",
       "      <th>price</th>\n",
       "      <th>price_per_sqm</th>\n",
       "      <th>year_built</th>\n",
       "      <th>floor</th>\n",
       "      <th>elevator</th>\n",
       "      <th>condition</th>\n",
       "      <th>plot_ownership</th>\n",
       "      <th>energy_class</th>\n",
       "      <th>postal_code</th>\n",
       "    </tr>\n",
       "  </thead>\n",
       "  <tbody>\n",
       "    <tr>\n",
       "      <td>0</td>\n",
       "      <td>Etu-töölö</td>\n",
       "      <td>1h, avok, kph, kht</td>\n",
       "      <td>kt</td>\n",
       "      <td>24.0</td>\n",
       "      <td>217000</td>\n",
       "      <td>9042</td>\n",
       "      <td>1929</td>\n",
       "      <td>6/7</td>\n",
       "      <td>on</td>\n",
       "      <td>hyvä</td>\n",
       "      <td>oma</td>\n",
       "      <td>E2018</td>\n",
       "      <td>00100</td>\n",
       "    </tr>\n",
       "    <tr>\n",
       "      <td>1</td>\n",
       "      <td>Etu-töölö</td>\n",
       "      <td>1h, kk</td>\n",
       "      <td>kt</td>\n",
       "      <td>28.0</td>\n",
       "      <td>260000</td>\n",
       "      <td>9286</td>\n",
       "      <td>1927</td>\n",
       "      <td>1/6</td>\n",
       "      <td>on</td>\n",
       "      <td>tyyd.</td>\n",
       "      <td>oma</td>\n",
       "      <td>F2013</td>\n",
       "      <td>00100</td>\n",
       "    </tr>\n",
       "    <tr>\n",
       "      <td>2</td>\n",
       "      <td>Etu-töölö</td>\n",
       "      <td>1h+k</td>\n",
       "      <td>kt</td>\n",
       "      <td>41.0</td>\n",
       "      <td>320000</td>\n",
       "      <td>7805</td>\n",
       "      <td>1911</td>\n",
       "      <td>2/5</td>\n",
       "      <td>ei</td>\n",
       "      <td>hyvä</td>\n",
       "      <td>oma</td>\n",
       "      <td>E2018</td>\n",
       "      <td>00100</td>\n",
       "    </tr>\n",
       "    <tr>\n",
       "      <td>3</td>\n",
       "      <td>Töölö</td>\n",
       "      <td>1h,ikk.kk,kh</td>\n",
       "      <td>kt</td>\n",
       "      <td>23.0</td>\n",
       "      <td>226000</td>\n",
       "      <td>9826</td>\n",
       "      <td>1934</td>\n",
       "      <td>1/3</td>\n",
       "      <td>ei</td>\n",
       "      <td>tyyd.</td>\n",
       "      <td>oma</td>\n",
       "      <td>D2013</td>\n",
       "      <td>00100</td>\n",
       "    </tr>\n",
       "    <tr>\n",
       "      <td>4</td>\n",
       "      <td>Keskusta</td>\n",
       "      <td>1h,k</td>\n",
       "      <td>kt</td>\n",
       "      <td>47.9</td>\n",
       "      <td>500000</td>\n",
       "      <td>10438</td>\n",
       "      <td>1905</td>\n",
       "      <td>3/3</td>\n",
       "      <td>ei</td>\n",
       "      <td>tyyd.</td>\n",
       "      <td>oma</td>\n",
       "      <td>G</td>\n",
       "      <td>00100</td>\n",
       "    </tr>\n",
       "  </tbody>\n",
       "</table>\n",
       "</div>"
      ],
      "text/plain": [
       "  neighborhood      apartment_type house_type   sqm   price  price_per_sqm  \\\n",
       "0    Etu-töölö  1h, avok, kph, kht         kt  24.0  217000           9042   \n",
       "1    Etu-töölö              1h, kk         kt  28.0  260000           9286   \n",
       "2    Etu-töölö                1h+k         kt  41.0  320000           7805   \n",
       "3        Töölö        1h,ikk.kk,kh         kt  23.0  226000           9826   \n",
       "4     Keskusta                1h,k         kt  47.9  500000          10438   \n",
       "\n",
       "   year_built floor elevator condition plot_ownership energy_class postal_code  \n",
       "0        1929   6/7       on      hyvä            oma        E2018       00100  \n",
       "1        1927   1/6       on     tyyd.            oma        F2013       00100  \n",
       "2        1911   2/5       ei      hyvä            oma        E2018       00100  \n",
       "3        1934   1/3       ei     tyyd.            oma        D2013       00100  \n",
       "4        1905   3/3       ei     tyyd.            oma            G       00100  "
      ]
     },
     "execution_count": 111,
     "metadata": {},
     "output_type": "execute_result"
    }
   ],
   "source": [
    "df.head()"
   ]
  },
  {
   "cell_type": "code",
   "execution_count": 112,
   "metadata": {
    "scrolled": true
   },
   "outputs": [
    {
     "data": {
      "text/html": [
       "<div>\n",
       "<style scoped>\n",
       "    .dataframe tbody tr th:only-of-type {\n",
       "        vertical-align: middle;\n",
       "    }\n",
       "\n",
       "    .dataframe tbody tr th {\n",
       "        vertical-align: top;\n",
       "    }\n",
       "\n",
       "    .dataframe thead th {\n",
       "        text-align: right;\n",
       "    }\n",
       "</style>\n",
       "<table border=\"1\" class=\"dataframe\">\n",
       "  <thead>\n",
       "    <tr style=\"text-align: right;\">\n",
       "      <th></th>\n",
       "      <th>sqm</th>\n",
       "      <th>price</th>\n",
       "      <th>price_per_sqm</th>\n",
       "      <th>year_built</th>\n",
       "    </tr>\n",
       "  </thead>\n",
       "  <tbody>\n",
       "    <tr>\n",
       "      <td>count</td>\n",
       "      <td>4788.000000</td>\n",
       "      <td>4.788000e+03</td>\n",
       "      <td>4788.000000</td>\n",
       "      <td>4788.000000</td>\n",
       "    </tr>\n",
       "    <tr>\n",
       "      <td>mean</td>\n",
       "      <td>66.192607</td>\n",
       "      <td>2.600758e+05</td>\n",
       "      <td>4347.590434</td>\n",
       "      <td>1981.800543</td>\n",
       "    </tr>\n",
       "    <tr>\n",
       "      <td>std</td>\n",
       "      <td>33.969017</td>\n",
       "      <td>1.311311e+05</td>\n",
       "      <td>2072.094916</td>\n",
       "      <td>27.545228</td>\n",
       "    </tr>\n",
       "    <tr>\n",
       "      <td>min</td>\n",
       "      <td>6.000000</td>\n",
       "      <td>1.466000e+03</td>\n",
       "      <td>74.000000</td>\n",
       "      <td>1850.000000</td>\n",
       "    </tr>\n",
       "    <tr>\n",
       "      <td>25%</td>\n",
       "      <td>45.000000</td>\n",
       "      <td>1.720000e+05</td>\n",
       "      <td>2897.000000</td>\n",
       "      <td>1964.000000</td>\n",
       "    </tr>\n",
       "    <tr>\n",
       "      <td>50%</td>\n",
       "      <td>59.000000</td>\n",
       "      <td>2.350000e+05</td>\n",
       "      <td>3860.000000</td>\n",
       "      <td>1982.000000</td>\n",
       "    </tr>\n",
       "    <tr>\n",
       "      <td>75%</td>\n",
       "      <td>79.500000</td>\n",
       "      <td>3.175000e+05</td>\n",
       "      <td>5370.250000</td>\n",
       "      <td>2006.000000</td>\n",
       "    </tr>\n",
       "    <tr>\n",
       "      <td>max</td>\n",
       "      <td>323.100000</td>\n",
       "      <td>1.678000e+06</td>\n",
       "      <td>33228.000000</td>\n",
       "      <td>2021.000000</td>\n",
       "    </tr>\n",
       "  </tbody>\n",
       "</table>\n",
       "</div>"
      ],
      "text/plain": [
       "               sqm         price  price_per_sqm   year_built\n",
       "count  4788.000000  4.788000e+03    4788.000000  4788.000000\n",
       "mean     66.192607  2.600758e+05    4347.590434  1981.800543\n",
       "std      33.969017  1.311311e+05    2072.094916    27.545228\n",
       "min       6.000000  1.466000e+03      74.000000  1850.000000\n",
       "25%      45.000000  1.720000e+05    2897.000000  1964.000000\n",
       "50%      59.000000  2.350000e+05    3860.000000  1982.000000\n",
       "75%      79.500000  3.175000e+05    5370.250000  2006.000000\n",
       "max     323.100000  1.678000e+06   33228.000000  2021.000000"
      ]
     },
     "execution_count": 112,
     "metadata": {},
     "output_type": "execute_result"
    }
   ],
   "source": [
    "df.describe()"
   ]
  },
  {
   "cell_type": "markdown",
   "metadata": {},
   "source": [
    "## Part 2: Data visualisation and preprocessing"
   ]
  },
  {
   "cell_type": "code",
   "execution_count": 113,
   "metadata": {},
   "outputs": [
    {
     "name": "stdout",
     "output_type": "stream",
     "text": [
      "Count of values in column floor = 64\n",
      "Count of values in column condition = 50\n",
      "Count of values in column plot_ownership = 59\n"
     ]
    }
   ],
   "source": [
    "# We will use house type, sqm, price, year_built, floor, elevator, condition, plot_ownership and postal_code\n",
    "# To predict the price_per_sqm\n",
    "cols = ['price_per_sqm','house_type', 'sqm', 'price', 'year_built', 'floor', 'elevator', 'condition', 'plot_ownership', 'postal_code']\n",
    "df_ml = df[cols].copy(deep=True)\n",
    "df_ml.replace('', np.nan, inplace=True) #Replace empty cells with nan for easier use of built-in methods\n",
    "\n",
    "#Find columns with missing values\n",
    "columns_with_missing_values = [col for col in df_ml.columns if df_ml[col].isna().any()]\n",
    "\n",
    "for col in columns_with_missing_values:\n",
    "    print(f\"Count of values in column {col} = {df_ml[df_ml[col].isna()].index.size}\")\n",
    "\n",
    "#As the count of rows containing missing values is somewhat low, the corresponding rows are dropped\n",
    "df_ml.dropna(axis=0, inplace=True)"
   ]
  },
  {
   "cell_type": "code",
   "execution_count": 114,
   "metadata": {},
   "outputs": [
    {
     "data": {
      "text/plain": [
       "Text(0.5, 0, 'Year built (apartment buildings only)')"
      ]
     },
     "execution_count": 114,
     "metadata": {},
     "output_type": "execute_result"
    },
    {
     "data": {
      "image/png": "[encoded data removed]",
      "text/plain": [
       "<Figure size 1152x1440 with 4 Axes>"
      ]
     },
     "metadata": {
      "needs_background": "light"
     },
     "output_type": "display_data"
    }
   ],
   "source": [
    "groups_house_types = df_ml.groupby('house_type') # For plotting different colours depending on house type\n",
    "groups_condition_in_kt = df_ml[df_ml['house_type']=='kt'].groupby('condition') # Colours depending on condition\n",
    "fig, axs = plt.subplots(4, figsize=(16, 20))\n",
    "fig.suptitle('Scatterplots of numerical columns')\n",
    "\n",
    "for name, group in groups_house_types:\n",
    "    axs[0].scatter(group['sqm'], group['price_per_sqm'], label=name)\n",
    "    axs[1].scatter(group['year_built'], group['price_per_sqm'], label=name)\n",
    "\n",
    "for name, group in groups_condition_in_kt:\n",
    "    axs[2].scatter(group['sqm'], group['price_per_sqm'], label=name)\n",
    "    axs[3].scatter(group['year_built'], group['price_per_sqm'], label=name)\n",
    "    \n",
    "axs[0].legend(['apartment building', 'detached house', 'row house'])\n",
    "axs[1].legend(['apartment building', 'detached house', 'row house'], loc=1)\n",
    "axs[2].legend(['bad condition', 'good condition', 'intermediate condition'])\n",
    "axs[3].legend(['bad condition', 'good condition', 'intermediate condition'], loc=1)\n",
    "\n",
    "for ax in axs:\n",
    "    ax.set_ylabel('Price per sqm')\n",
    "axs[0].set_xlabel('Sqm (m$^2$)')\n",
    "axs[1].set_xlabel('Year built')\n",
    "axs[2].set_xlabel('Sqm (apartment buildings only)')\n",
    "axs[3].set_xlabel('Year built (apartment buildings only)')"
   ]
  },
  {
   "cell_type": "markdown",
   "metadata": {},
   "source": [
    "The first subplot does show higher prices per square meter for smaller apartments. It also suggests that apartment buildings (kt) generally have smaller apartments than separate houses (ok) and row houses (rt).\n",
    "\n",
    "It is also obvious that there is an outlier with over 30k€ per sqm, as well as many new good condition apartments that are very cheap. These are removed below"
   ]
  },
  {
   "cell_type": "code",
   "execution_count": 115,
   "metadata": {
    "scrolled": false
   },
   "outputs": [
    {
     "name": "stdout",
     "output_type": "stream",
     "text": [
      "Count of outliers 21\n"
     ]
    },
    {
     "data": {
      "text/html": [
       "<div>\n",
       "<style scoped>\n",
       "    .dataframe tbody tr th:only-of-type {\n",
       "        vertical-align: middle;\n",
       "    }\n",
       "\n",
       "    .dataframe tbody tr th {\n",
       "        vertical-align: top;\n",
       "    }\n",
       "\n",
       "    .dataframe thead th {\n",
       "        text-align: right;\n",
       "    }\n",
       "</style>\n",
       "<table border=\"1\" class=\"dataframe\">\n",
       "  <thead>\n",
       "    <tr style=\"text-align: right;\">\n",
       "      <th></th>\n",
       "      <th>price_per_sqm</th>\n",
       "      <th>house_type</th>\n",
       "      <th>sqm</th>\n",
       "      <th>price</th>\n",
       "      <th>year_built</th>\n",
       "      <th>floor</th>\n",
       "      <th>elevator</th>\n",
       "      <th>condition</th>\n",
       "      <th>plot_ownership</th>\n",
       "      <th>postal_code</th>\n",
       "    </tr>\n",
       "  </thead>\n",
       "  <tbody>\n",
       "    <tr>\n",
       "      <td>140</td>\n",
       "      <td>33228</td>\n",
       "      <td>kt</td>\n",
       "      <td>50.5</td>\n",
       "      <td>1678000</td>\n",
       "      <td>1908</td>\n",
       "      <td>5/5</td>\n",
       "      <td>ei</td>\n",
       "      <td>hyvä</td>\n",
       "      <td>oma</td>\n",
       "      <td>00140</td>\n",
       "    </tr>\n",
       "    <tr>\n",
       "      <td>918</td>\n",
       "      <td>120</td>\n",
       "      <td>rt</td>\n",
       "      <td>12.5</td>\n",
       "      <td>1500</td>\n",
       "      <td>2020</td>\n",
       "      <td>1/2</td>\n",
       "      <td>ei</td>\n",
       "      <td>hyvä</td>\n",
       "      <td>vuokra</td>\n",
       "      <td>00410</td>\n",
       "    </tr>\n",
       "    <tr>\n",
       "      <td>926</td>\n",
       "      <td>120</td>\n",
       "      <td>rt</td>\n",
       "      <td>12.5</td>\n",
       "      <td>1500</td>\n",
       "      <td>2020</td>\n",
       "      <td>1/2</td>\n",
       "      <td>ei</td>\n",
       "      <td>hyvä</td>\n",
       "      <td>vuokra</td>\n",
       "      <td>00410</td>\n",
       "    </tr>\n",
       "    <tr>\n",
       "      <td>928</td>\n",
       "      <td>120</td>\n",
       "      <td>rt</td>\n",
       "      <td>12.5</td>\n",
       "      <td>1500</td>\n",
       "      <td>2020</td>\n",
       "      <td>1/2</td>\n",
       "      <td>ei</td>\n",
       "      <td>hyvä</td>\n",
       "      <td>vuokra</td>\n",
       "      <td>00410</td>\n",
       "    </tr>\n",
       "    <tr>\n",
       "      <td>929</td>\n",
       "      <td>120</td>\n",
       "      <td>rt</td>\n",
       "      <td>12.5</td>\n",
       "      <td>1500</td>\n",
       "      <td>2020</td>\n",
       "      <td>1/2</td>\n",
       "      <td>ei</td>\n",
       "      <td>hyvä</td>\n",
       "      <td>vuokra</td>\n",
       "      <td>00410</td>\n",
       "    </tr>\n",
       "    <tr>\n",
       "      <td>931</td>\n",
       "      <td>120</td>\n",
       "      <td>rt</td>\n",
       "      <td>12.5</td>\n",
       "      <td>1500</td>\n",
       "      <td>2020</td>\n",
       "      <td>1/2</td>\n",
       "      <td>ei</td>\n",
       "      <td>hyvä</td>\n",
       "      <td>vuokra</td>\n",
       "      <td>00410</td>\n",
       "    </tr>\n",
       "    <tr>\n",
       "      <td>932</td>\n",
       "      <td>120</td>\n",
       "      <td>rt</td>\n",
       "      <td>12.5</td>\n",
       "      <td>1500</td>\n",
       "      <td>2020</td>\n",
       "      <td>1/2</td>\n",
       "      <td>ei</td>\n",
       "      <td>hyvä</td>\n",
       "      <td>vuokra</td>\n",
       "      <td>00410</td>\n",
       "    </tr>\n",
       "    <tr>\n",
       "      <td>3248</td>\n",
       "      <td>150</td>\n",
       "      <td>kt</td>\n",
       "      <td>10.0</td>\n",
       "      <td>1502</td>\n",
       "      <td>2020</td>\n",
       "      <td>1/1</td>\n",
       "      <td>on</td>\n",
       "      <td>hyvä</td>\n",
       "      <td>vuokra</td>\n",
       "      <td>02430</td>\n",
       "    </tr>\n",
       "    <tr>\n",
       "      <td>3249</td>\n",
       "      <td>123</td>\n",
       "      <td>kt</td>\n",
       "      <td>12.0</td>\n",
       "      <td>1480</td>\n",
       "      <td>2020</td>\n",
       "      <td>1/1</td>\n",
       "      <td>on</td>\n",
       "      <td>hyvä</td>\n",
       "      <td>vuokra</td>\n",
       "      <td>02430</td>\n",
       "    </tr>\n",
       "    <tr>\n",
       "      <td>3250</td>\n",
       "      <td>123</td>\n",
       "      <td>kt</td>\n",
       "      <td>12.0</td>\n",
       "      <td>1480</td>\n",
       "      <td>2020</td>\n",
       "      <td>1/1</td>\n",
       "      <td>on</td>\n",
       "      <td>hyvä</td>\n",
       "      <td>vuokra</td>\n",
       "      <td>02430</td>\n",
       "    </tr>\n",
       "    <tr>\n",
       "      <td>3253</td>\n",
       "      <td>123</td>\n",
       "      <td>kt</td>\n",
       "      <td>12.0</td>\n",
       "      <td>1480</td>\n",
       "      <td>2020</td>\n",
       "      <td>1/1</td>\n",
       "      <td>on</td>\n",
       "      <td>hyvä</td>\n",
       "      <td>vuokra</td>\n",
       "      <td>02430</td>\n",
       "    </tr>\n",
       "    <tr>\n",
       "      <td>3254</td>\n",
       "      <td>123</td>\n",
       "      <td>kt</td>\n",
       "      <td>12.0</td>\n",
       "      <td>1480</td>\n",
       "      <td>2020</td>\n",
       "      <td>1/1</td>\n",
       "      <td>on</td>\n",
       "      <td>hyvä</td>\n",
       "      <td>vuokra</td>\n",
       "      <td>02430</td>\n",
       "    </tr>\n",
       "    <tr>\n",
       "      <td>3261</td>\n",
       "      <td>150</td>\n",
       "      <td>kt</td>\n",
       "      <td>10.0</td>\n",
       "      <td>1502</td>\n",
       "      <td>2020</td>\n",
       "      <td>1/1</td>\n",
       "      <td>on</td>\n",
       "      <td>hyvä</td>\n",
       "      <td>vuokra</td>\n",
       "      <td>02430</td>\n",
       "    </tr>\n",
       "    <tr>\n",
       "      <td>3988</td>\n",
       "      <td>242</td>\n",
       "      <td>kt</td>\n",
       "      <td>12.0</td>\n",
       "      <td>2900</td>\n",
       "      <td>2019</td>\n",
       "      <td>1/1</td>\n",
       "      <td>on</td>\n",
       "      <td>hyvä</td>\n",
       "      <td>oma</td>\n",
       "      <td>01300</td>\n",
       "    </tr>\n",
       "    <tr>\n",
       "      <td>4230</td>\n",
       "      <td>172</td>\n",
       "      <td>kt</td>\n",
       "      <td>9.0</td>\n",
       "      <td>1549</td>\n",
       "      <td>2020</td>\n",
       "      <td>1/1</td>\n",
       "      <td>ei</td>\n",
       "      <td>hyvä</td>\n",
       "      <td>vuokra</td>\n",
       "      <td>01400</td>\n",
       "    </tr>\n",
       "    <tr>\n",
       "      <td>4232</td>\n",
       "      <td>172</td>\n",
       "      <td>kt</td>\n",
       "      <td>9.0</td>\n",
       "      <td>1549</td>\n",
       "      <td>2020</td>\n",
       "      <td>1/1</td>\n",
       "      <td>ei</td>\n",
       "      <td>hyvä</td>\n",
       "      <td>vuokra</td>\n",
       "      <td>01400</td>\n",
       "    </tr>\n",
       "    <tr>\n",
       "      <td>4233</td>\n",
       "      <td>172</td>\n",
       "      <td>kt</td>\n",
       "      <td>9.0</td>\n",
       "      <td>1549</td>\n",
       "      <td>2020</td>\n",
       "      <td>1/1</td>\n",
       "      <td>ei</td>\n",
       "      <td>hyvä</td>\n",
       "      <td>vuokra</td>\n",
       "      <td>01400</td>\n",
       "    </tr>\n",
       "    <tr>\n",
       "      <td>4239</td>\n",
       "      <td>172</td>\n",
       "      <td>kt</td>\n",
       "      <td>9.0</td>\n",
       "      <td>1549</td>\n",
       "      <td>2020</td>\n",
       "      <td>1/1</td>\n",
       "      <td>ei</td>\n",
       "      <td>hyvä</td>\n",
       "      <td>vuokra</td>\n",
       "      <td>01400</td>\n",
       "    </tr>\n",
       "    <tr>\n",
       "      <td>4244</td>\n",
       "      <td>117</td>\n",
       "      <td>kt</td>\n",
       "      <td>12.5</td>\n",
       "      <td>1466</td>\n",
       "      <td>2019</td>\n",
       "      <td>1/5</td>\n",
       "      <td>on</td>\n",
       "      <td>hyvä</td>\n",
       "      <td>vuokra</td>\n",
       "      <td>01400</td>\n",
       "    </tr>\n",
       "    <tr>\n",
       "      <td>4555</td>\n",
       "      <td>74</td>\n",
       "      <td>kt</td>\n",
       "      <td>47.0</td>\n",
       "      <td>3500</td>\n",
       "      <td>2018</td>\n",
       "      <td>1/5</td>\n",
       "      <td>on</td>\n",
       "      <td>hyvä</td>\n",
       "      <td>vuokra</td>\n",
       "      <td>01620</td>\n",
       "    </tr>\n",
       "    <tr>\n",
       "      <td>4564</td>\n",
       "      <td>76</td>\n",
       "      <td>kt</td>\n",
       "      <td>46.0</td>\n",
       "      <td>3500</td>\n",
       "      <td>2018</td>\n",
       "      <td>3/6</td>\n",
       "      <td>on</td>\n",
       "      <td>hyvä</td>\n",
       "      <td>vuokra</td>\n",
       "      <td>01620</td>\n",
       "    </tr>\n",
       "  </tbody>\n",
       "</table>\n",
       "</div>"
      ],
      "text/plain": [
       "      price_per_sqm house_type   sqm    price  year_built floor elevator  \\\n",
       "140           33228         kt  50.5  1678000        1908   5/5       ei   \n",
       "918             120         rt  12.5     1500        2020   1/2       ei   \n",
       "926             120         rt  12.5     1500        2020   1/2       ei   \n",
       "928             120         rt  12.5     1500        2020   1/2       ei   \n",
       "929             120         rt  12.5     1500        2020   1/2       ei   \n",
       "931             120         rt  12.5     1500        2020   1/2       ei   \n",
       "932             120         rt  12.5     1500        2020   1/2       ei   \n",
       "3248            150         kt  10.0     1502        2020   1/1       on   \n",
       "3249            123         kt  12.0     1480        2020   1/1       on   \n",
       "3250            123         kt  12.0     1480        2020   1/1       on   \n",
       "3253            123         kt  12.0     1480        2020   1/1       on   \n",
       "3254            123         kt  12.0     1480        2020   1/1       on   \n",
       "3261            150         kt  10.0     1502        2020   1/1       on   \n",
       "3988            242         kt  12.0     2900        2019   1/1       on   \n",
       "4230            172         kt   9.0     1549        2020   1/1       ei   \n",
       "4232            172         kt   9.0     1549        2020   1/1       ei   \n",
       "4233            172         kt   9.0     1549        2020   1/1       ei   \n",
       "4239            172         kt   9.0     1549        2020   1/1       ei   \n",
       "4244            117         kt  12.5     1466        2019   1/5       on   \n",
       "4555             74         kt  47.0     3500        2018   1/5       on   \n",
       "4564             76         kt  46.0     3500        2018   3/6       on   \n",
       "\n",
       "     condition plot_ownership postal_code  \n",
       "140       hyvä            oma       00140  \n",
       "918       hyvä         vuokra       00410  \n",
       "926       hyvä         vuokra       00410  \n",
       "928       hyvä         vuokra       00410  \n",
       "929       hyvä         vuokra       00410  \n",
       "931       hyvä         vuokra       00410  \n",
       "932       hyvä         vuokra       00410  \n",
       "3248      hyvä         vuokra       02430  \n",
       "3249      hyvä         vuokra       02430  \n",
       "3250      hyvä         vuokra       02430  \n",
       "3253      hyvä         vuokra       02430  \n",
       "3254      hyvä         vuokra       02430  \n",
       "3261      hyvä         vuokra       02430  \n",
       "3988      hyvä            oma       01300  \n",
       "4230      hyvä         vuokra       01400  \n",
       "4232      hyvä         vuokra       01400  \n",
       "4233      hyvä         vuokra       01400  \n",
       "4239      hyvä         vuokra       01400  \n",
       "4244      hyvä         vuokra       01400  \n",
       "4555      hyvä         vuokra       01620  \n",
       "4564      hyvä         vuokra       01620  "
      ]
     },
     "execution_count": 115,
     "metadata": {},
     "output_type": "execute_result"
    }
   ],
   "source": [
    "outliers = df_ml[(df_ml['price_per_sqm'] > 30000) | (df_ml['price_per_sqm'] < 400)]\n",
    "print(f\"Count of outliers {outliers.index.size}\")\n",
    "\n",
    "# Drop the outlier data\n",
    "df_ml.drop(outliers.index, axis=0, inplace=True)\n",
    "outliers"
   ]
  },
  {
   "cell_type": "code",
   "execution_count": 116,
   "metadata": {},
   "outputs": [
    {
     "data": {
      "text/plain": [
       "Text(0.5, 1.0, 'Most frequent')"
      ]
     },
     "execution_count": 116,
     "metadata": {},
     "output_type": "execute_result"
    },
    {
     "data": {
      "image/png": "[encoded data removed]",
      "text/plain": [
       "<Figure size 1152x576 with 2 Axes>"
      ]
     },
     "metadata": {
      "needs_background": "light"
     },
     "output_type": "display_data"
    }
   ],
   "source": [
    "plt.figure()\n",
    "plt.subplot(121)\n",
    "df_ml.groupby('postal_code')['price'].count().sort_values()[:20].plot.barh(figsize=(16,8))\n",
    "plt.xlabel('Count in dataset')\n",
    "plt.title('Least frequent')\n",
    "\n",
    "plt.subplot(122)\n",
    "df_ml.groupby('postal_code')['price'].count().sort_values()[-20:].plot.barh(figsize=(16,8))\n",
    "plt.xlabel('Count in dataset')\n",
    "plt.title('Most frequent')"
   ]
  },
  {
   "cell_type": "code",
   "execution_count": 117,
   "metadata": {},
   "outputs": [
    {
     "data": {
      "text/plain": [
       "157"
      ]
     },
     "execution_count": 117,
     "metadata": {},
     "output_type": "execute_result"
    }
   ],
   "source": [
    "df_ml.groupby('postal_code')['price'].count().sort_values().size #count of postal codes"
   ]
  },
  {
   "cell_type": "code",
   "execution_count": 118,
   "metadata": {},
   "outputs": [
    {
     "data": {
      "text/plain": [
       "Text(0, 0.5, 'Count of postal code')"
      ]
     },
     "execution_count": 118,
     "metadata": {},
     "output_type": "execute_result"
    },
    {
     "data": {
      "image/png": "[encoded data removed]",
      "text/plain": [
       "<Figure size 1152x576 with 1 Axes>"
      ]
     },
     "metadata": {
      "needs_background": "light"
     },
     "output_type": "display_data"
    }
   ],
   "source": [
    "fig, ax = plt.subplots(figsize=(16,8))\n",
    "df_ml.groupby('postal_code')['price'].count().sort_values().plot()\n",
    "ax.set_title('Postal codes sorted by count')\n",
    "ax.set_xticks([])\n",
    "ax.set_xlabel('Postal codes')\n",
    "ax.set_ylabel('Count of postal code')"
   ]
  },
  {
   "cell_type": "markdown",
   "metadata": {},
   "source": [
    "There are postal codes with very few rows in the dataset. As they are categorical features, it is not obvious whether or not dropping the corresponding rows yield the best estimates. However, the predictions for the postal codes containing very few rows will not be good."
   ]
  },
  {
   "cell_type": "code",
   "execution_count": 119,
   "metadata": {},
   "outputs": [],
   "source": [
    "def parse_floor(row):\n",
    "    '''\n",
    "    Converts the string describing current and total floors to usable features.\n",
    "    '''\n",
    "    floors = row['floor'].split('/')\n",
    "    try:\n",
    "        row['floors'] = float(floors[1])\n",
    "        row['current_floor'] = float(floors[0])\n",
    "        row['floor_ratio'] = float(floors[0])/float(floors[1])\n",
    "    except:\n",
    "        pass\n",
    "    return row\n",
    "\n",
    "df_ml['floors'] = pd.Series()\n",
    "df_ml['current_floor'] = pd.Series()\n",
    "df_ml['floor_ratio'] = pd.Series()\n",
    "\n",
    "df_ml = df_ml.apply(parse_floor, axis='columns')"
   ]
  },
  {
   "cell_type": "code",
   "execution_count": 120,
   "metadata": {},
   "outputs": [],
   "source": [
    "\n",
    "features = df_ml.drop(['price_per_sqm', 'floor', 'price'], axis=1)\n",
    "labels = df_ml['price_per_sqm']\n",
    "\n",
    "features_train, features_test, labels_train, labels_test = train_test_split(features, labels, random_state=0, test_size=0.2) "
   ]
  },
  {
   "cell_type": "code",
   "execution_count": 121,
   "metadata": {},
   "outputs": [
    {
     "data": {
      "text/html": [
       "<div>\n",
       "<style scoped>\n",
       "    .dataframe tbody tr th:only-of-type {\n",
       "        vertical-align: middle;\n",
       "    }\n",
       "\n",
       "    .dataframe tbody tr th {\n",
       "        vertical-align: top;\n",
       "    }\n",
       "\n",
       "    .dataframe thead th {\n",
       "        text-align: right;\n",
       "    }\n",
       "</style>\n",
       "<table border=\"1\" class=\"dataframe\">\n",
       "  <thead>\n",
       "    <tr style=\"text-align: right;\">\n",
       "      <th></th>\n",
       "      <th>house_type</th>\n",
       "      <th>sqm</th>\n",
       "      <th>year_built</th>\n",
       "      <th>elevator</th>\n",
       "      <th>condition</th>\n",
       "      <th>plot_ownership</th>\n",
       "      <th>postal_code</th>\n",
       "      <th>floors</th>\n",
       "      <th>current_floor</th>\n",
       "      <th>floor_ratio</th>\n",
       "    </tr>\n",
       "  </thead>\n",
       "  <tbody>\n",
       "    <tr>\n",
       "      <td>39</td>\n",
       "      <td>kt</td>\n",
       "      <td>42.5</td>\n",
       "      <td>1935</td>\n",
       "      <td>on</td>\n",
       "      <td>hyvä</td>\n",
       "      <td>oma</td>\n",
       "      <td>00100</td>\n",
       "      <td>6.0</td>\n",
       "      <td>5.0</td>\n",
       "      <td>0.833333</td>\n",
       "    </tr>\n",
       "    <tr>\n",
       "      <td>717</td>\n",
       "      <td>kt</td>\n",
       "      <td>55.2</td>\n",
       "      <td>1958</td>\n",
       "      <td>on</td>\n",
       "      <td>tyyd.</td>\n",
       "      <td>vuokra</td>\n",
       "      <td>00350</td>\n",
       "      <td>4.0</td>\n",
       "      <td>1.0</td>\n",
       "      <td>0.250000</td>\n",
       "    </tr>\n",
       "    <tr>\n",
       "      <td>1598</td>\n",
       "      <td>rt</td>\n",
       "      <td>89.5</td>\n",
       "      <td>1975</td>\n",
       "      <td>ei</td>\n",
       "      <td>hyvä</td>\n",
       "      <td>oma</td>\n",
       "      <td>00670</td>\n",
       "      <td>1.0</td>\n",
       "      <td>1.0</td>\n",
       "      <td>1.000000</td>\n",
       "    </tr>\n",
       "    <tr>\n",
       "      <td>1384</td>\n",
       "      <td>kt</td>\n",
       "      <td>43.0</td>\n",
       "      <td>1928</td>\n",
       "      <td>ei</td>\n",
       "      <td>tyyd.</td>\n",
       "      <td>vuokra</td>\n",
       "      <td>00610</td>\n",
       "      <td>4.0</td>\n",
       "      <td>3.0</td>\n",
       "      <td>0.750000</td>\n",
       "    </tr>\n",
       "    <tr>\n",
       "      <td>4026</td>\n",
       "      <td>kt</td>\n",
       "      <td>50.0</td>\n",
       "      <td>1956</td>\n",
       "      <td>ei</td>\n",
       "      <td>hyvä</td>\n",
       "      <td>vuokra</td>\n",
       "      <td>01300</td>\n",
       "      <td>3.0</td>\n",
       "      <td>3.0</td>\n",
       "      <td>1.000000</td>\n",
       "    </tr>\n",
       "    <tr>\n",
       "      <td>...</td>\n",
       "      <td>...</td>\n",
       "      <td>...</td>\n",
       "      <td>...</td>\n",
       "      <td>...</td>\n",
       "      <td>...</td>\n",
       "      <td>...</td>\n",
       "      <td>...</td>\n",
       "      <td>...</td>\n",
       "      <td>...</td>\n",
       "      <td>...</td>\n",
       "    </tr>\n",
       "    <tr>\n",
       "      <td>1061</td>\n",
       "      <td>kt</td>\n",
       "      <td>35.0</td>\n",
       "      <td>1930</td>\n",
       "      <td>on</td>\n",
       "      <td>hyvä</td>\n",
       "      <td>oma</td>\n",
       "      <td>00500</td>\n",
       "      <td>7.0</td>\n",
       "      <td>3.0</td>\n",
       "      <td>0.428571</td>\n",
       "    </tr>\n",
       "    <tr>\n",
       "      <td>3382</td>\n",
       "      <td>kt</td>\n",
       "      <td>121.0</td>\n",
       "      <td>2000</td>\n",
       "      <td>on</td>\n",
       "      <td>hyvä</td>\n",
       "      <td>oma</td>\n",
       "      <td>02600</td>\n",
       "      <td>5.0</td>\n",
       "      <td>5.0</td>\n",
       "      <td>1.000000</td>\n",
       "    </tr>\n",
       "    <tr>\n",
       "      <td>1695</td>\n",
       "      <td>rt</td>\n",
       "      <td>72.0</td>\n",
       "      <td>2019</td>\n",
       "      <td>ei</td>\n",
       "      <td>hyvä</td>\n",
       "      <td>oma</td>\n",
       "      <td>00700</td>\n",
       "      <td>2.0</td>\n",
       "      <td>1.0</td>\n",
       "      <td>0.500000</td>\n",
       "    </tr>\n",
       "    <tr>\n",
       "      <td>2688</td>\n",
       "      <td>kt</td>\n",
       "      <td>102.0</td>\n",
       "      <td>2006</td>\n",
       "      <td>on</td>\n",
       "      <td>hyvä</td>\n",
       "      <td>oma</td>\n",
       "      <td>00990</td>\n",
       "      <td>7.0</td>\n",
       "      <td>3.0</td>\n",
       "      <td>0.428571</td>\n",
       "    </tr>\n",
       "    <tr>\n",
       "      <td>2815</td>\n",
       "      <td>rt</td>\n",
       "      <td>152.0</td>\n",
       "      <td>1973</td>\n",
       "      <td>ei</td>\n",
       "      <td>hyvä</td>\n",
       "      <td>oma</td>\n",
       "      <td>02160</td>\n",
       "      <td>2.0</td>\n",
       "      <td>2.0</td>\n",
       "      <td>1.000000</td>\n",
       "    </tr>\n",
       "  </tbody>\n",
       "</table>\n",
       "<p>3680 rows × 10 columns</p>\n",
       "</div>"
      ],
      "text/plain": [
       "     house_type    sqm  year_built elevator condition plot_ownership  \\\n",
       "39           kt   42.5        1935       on      hyvä            oma   \n",
       "717          kt   55.2        1958       on     tyyd.         vuokra   \n",
       "1598         rt   89.5        1975       ei      hyvä            oma   \n",
       "1384         kt   43.0        1928       ei     tyyd.         vuokra   \n",
       "4026         kt   50.0        1956       ei      hyvä         vuokra   \n",
       "...         ...    ...         ...      ...       ...            ...   \n",
       "1061         kt   35.0        1930       on      hyvä            oma   \n",
       "3382         kt  121.0        2000       on      hyvä            oma   \n",
       "1695         rt   72.0        2019       ei      hyvä            oma   \n",
       "2688         kt  102.0        2006       on      hyvä            oma   \n",
       "2815         rt  152.0        1973       ei      hyvä            oma   \n",
       "\n",
       "     postal_code  floors  current_floor  floor_ratio  \n",
       "39         00100     6.0            5.0     0.833333  \n",
       "717        00350     4.0            1.0     0.250000  \n",
       "1598       00670     1.0            1.0     1.000000  \n",
       "1384       00610     4.0            3.0     0.750000  \n",
       "4026       01300     3.0            3.0     1.000000  \n",
       "...          ...     ...            ...          ...  \n",
       "1061       00500     7.0            3.0     0.428571  \n",
       "3382       02600     5.0            5.0     1.000000  \n",
       "1695       00700     2.0            1.0     0.500000  \n",
       "2688       00990     7.0            3.0     0.428571  \n",
       "2815       02160     2.0            2.0     1.000000  \n",
       "\n",
       "[3680 rows x 10 columns]"
      ]
     },
     "execution_count": 121,
     "metadata": {},
     "output_type": "execute_result"
    }
   ],
   "source": [
    "features_train"
   ]
  },
  {
   "cell_type": "code",
   "execution_count": 122,
   "metadata": {
    "scrolled": false
   },
   "outputs": [],
   "source": [
    "ordinal_cols = ['elevator', 'condition', 'plot_ownership']\n",
    "categorical_cols = ['house_type', 'postal_code']\n",
    "numerical_cols = ['sqm', 'year_built', 'floors', 'current_floor', 'floor_ratio']\n",
    "\n",
    "\n",
    "ordinal_transformer = Pipeline(steps=[('ordinal', OrdinalEncoder())])\n",
    "categorical_transformer = Pipeline(steps=[('onehot', OneHotEncoder(handle_unknown='ignore', ))])\n",
    "minmax_scaler = Pipeline(steps=[('minmax', MinMaxScaler(feature_range=(0,1)))])\n",
    "\n",
    "preprocessor = ColumnTransformer(\n",
    "    transformers = [\n",
    "        ('ord', ordinal_transformer, ordinal_cols),\n",
    "        ('cat', categorical_transformer, categorical_cols),\n",
    "        ('minmax', minmax_scaler, numerical_cols)],\n",
    "        remainder='passthrough'\n",
    "    )\n",
    "\n"
   ]
  },
  {
   "cell_type": "markdown",
   "metadata": {},
   "source": [
    "## Part 3: Exploring machine learning algorithms"
   ]
  },
  {
   "cell_type": "markdown",
   "metadata": {},
   "source": [
    "## Part 3.0: Baseline solution using linear regression"
   ]
  },
  {
   "cell_type": "code",
   "execution_count": 123,
   "metadata": {},
   "outputs": [
    {
     "data": {
      "text/plain": [
       "0.8370330562855927"
      ]
     },
     "execution_count": 123,
     "metadata": {},
     "output_type": "execute_result"
    }
   ],
   "source": [
    "linear_pipeline = Pipeline(steps=[('preprocessor', preprocessor),\n",
    "                                  ('model_lgbm', LinearRegression())])\n",
    "\n",
    "linear_pipeline.fit(features_train, labels_train)\n",
    "\n",
    "linear_pipeline.score(features_test, labels_test)"
   ]
  },
  {
   "cell_type": "markdown",
   "metadata": {},
   "source": [
    "### Part 3.1: Random forest"
   ]
  },
  {
   "cell_type": "code",
   "execution_count": 124,
   "metadata": {},
   "outputs": [
    {
     "name": "stdout",
     "output_type": "stream",
     "text": [
      "R2 scores in cross validation: [0.86226461 0.83549486 0.86139834 0.85215153 0.85497345]\n"
     ]
    }
   ],
   "source": [
    "random_forest = RandomForestRegressor(n_estimators=100)\n",
    "random_forest_pipeline = Pipeline(steps=[('preprocessor', preprocessor),\n",
    "                                ('model', random_forest)])\n",
    "random_forest_pipeline.fit(features_train, labels_train)\n",
    "\n",
    "score = cross_val_score(random_forest_pipeline, features_train, labels_train, cv=5, scoring='r2')\n",
    "print(f\"R2 scores in cross validation: {score}\")"
   ]
  },
  {
   "cell_type": "code",
   "execution_count": 125,
   "metadata": {},
   "outputs": [],
   "source": [
    "%%capture\n",
    "from sklearn.model_selection import cross_val_score, RandomizedSearchCV\n",
    "parameters = {\n",
    "    'model__n_estimators': [10*i for i in range(1,20)],\n",
    "    'model__max_features': ['auto', 'sqrt'],\n",
    "    'model__max_depth': [10*i for i in range(1,10)]+[None],\n",
    "    'model__min_samples_split': [2, 5, 10],\n",
    "    'model__min_samples_leaf': [1, 2, 4],\n",
    "#    'bootstrap': [True, False]\n",
    "}\n",
    "CV = RandomizedSearchCV(estimator=random_forest_pipeline, param_distributions=parameters, scoring = 'r2', cv=50, n_iter=2, verbose=1)\n",
    "CV.fit(features_train, labels_train)"
   ]
  },
  {
   "cell_type": "code",
   "execution_count": 126,
   "metadata": {},
   "outputs": [
    {
     "name": "stdout",
     "output_type": "stream",
     "text": [
      "{'model__n_estimators': 190, 'model__min_samples_split': 2, 'model__min_samples_leaf': 1, 'model__max_features': 'auto', 'model__max_depth': 10}\n"
     ]
    },
    {
     "data": {
      "text/plain": [
       "0.7876460472563603"
      ]
     },
     "execution_count": 126,
     "metadata": {},
     "output_type": "execute_result"
    }
   ],
   "source": [
    "print(CV.best_params_)\n",
    "random_forest_pipeline.set_params(**CV.best_params_)\n",
    "random_forest_pipeline.fit(features_train, labels_train)\n",
    "random_forest_pipeline.score(features_test, labels_test)"
   ]
  },
  {
   "cell_type": "markdown",
   "metadata": {},
   "source": [
    "### Part 3.2: LightGBM"
   ]
  },
  {
   "cell_type": "code",
   "execution_count": 127,
   "metadata": {},
   "outputs": [
    {
     "data": {
      "text/plain": [
       "array([0.85565407, 0.83327333, 0.84824953, 0.856509  , 0.84820258])"
      ]
     },
     "execution_count": 127,
     "metadata": {},
     "output_type": "execute_result"
    }
   ],
   "source": [
    "lgbm = LGBMRegressor()\n",
    "\n",
    "lgbm_pipeline = Pipeline(steps=[('preprocessor', preprocessor),\n",
    "                                ('model_lgbm', lgbm)])\n",
    "\n",
    "lgbm_pipeline.fit(features_train, labels_train)\n",
    "\n",
    "lgbm_score = cross_val_score(lgbm_pipeline, features_train, labels_train, cv=5, scoring='r2')\n",
    "\n",
    "lgbm_score"
   ]
  },
  {
   "cell_type": "code",
   "execution_count": 128,
   "metadata": {},
   "outputs": [
    {
     "name": "stdout",
     "output_type": "stream",
     "text": [
      "Fitting 5 folds for each of 100 candidates, totalling 500 fits\n"
     ]
    },
    {
     "name": "stderr",
     "output_type": "stream",
     "text": [
      "[Parallel(n_jobs=1)]: Using backend SequentialBackend with 1 concurrent workers.\n",
      "[Parallel(n_jobs=1)]: Done 500 out of 500 | elapsed:  1.2min finished\n",
      "[Parallel(n_jobs=1)]: Using backend SequentialBackend with 1 concurrent workers.\n"
     ]
    },
    {
     "name": "stdout",
     "output_type": "stream",
     "text": [
      "{'model_lgbm__num_leaves': 64, 'model_lgbm__min_data_in_leaf': 2, 'model_lgbm__max_depth': 32}\n",
      "Fitting 5 folds for each of 10 candidates, totalling 50 fits\n"
     ]
    },
    {
     "name": "stderr",
     "output_type": "stream",
     "text": [
      "[Parallel(n_jobs=1)]: Done  50 out of  50 | elapsed:    9.3s finished\n"
     ]
    },
    {
     "data": {
      "text/plain": [
       "{'model_lgbm__learning_rate': 0.1}"
      ]
     },
     "execution_count": 128,
     "metadata": {},
     "output_type": "execute_result"
    }
   ],
   "source": [
    "lgbm_parameters_model_complexity = {\n",
    "    'model_lgbm__num_leaves': [8, 16, 32, 64, 128],\n",
    "    'model_lgbm__min_data_in_leaf': [2, 4, 8, 16, 32],\n",
    "    'model_lgbm__max_depth': [8, 16, 32, 64, 128, -1],\n",
    "}\n",
    "\n",
    "lgbm_parameters_training_speed = {\n",
    "    'model_lgbm__learning_rate': np.logspace(-3, 0, 10), \n",
    "}\n",
    "\n",
    "CV_lgbm = RandomizedSearchCV(estimator=lgbm_pipeline, param_distributions=lgbm_parameters_model_complexity, scoring = 'r2', cv=5, n_iter=100, verbose=1)\n",
    "CV_lgbm.fit(features_train, labels_train)\n",
    "lgbm_pipeline.set_params(**CV_lgbm.best_params_)\n",
    "lgbm_first_cv_params = CV_lgbm.best_params_\n",
    "print(CV_lgbm.best_params_)\n",
    "\n",
    "CV_lgbm = RandomizedSearchCV(estimator=lgbm_pipeline, param_distributions=lgbm_parameters_training_speed, scoring = 'r2', cv=5, n_iter=10, verbose=1)\n",
    "CV_lgbm.fit(features_train, labels_train)\n",
    "\n",
    "CV_lgbm.best_params_"
   ]
  },
  {
   "cell_type": "code",
   "execution_count": 129,
   "metadata": {},
   "outputs": [
    {
     "data": {
      "text/plain": [
       "0.8811537001722367"
      ]
     },
     "execution_count": 129,
     "metadata": {},
     "output_type": "execute_result"
    }
   ],
   "source": [
    "lgbm_pipeline.set_params(**CV_lgbm.best_params_)\n",
    "lgbm_pipeline.fit(features_train, labels_train)\n",
    "lgbm_pipeline.score(features_test, labels_test)"
   ]
  },
  {
   "cell_type": "markdown",
   "metadata": {},
   "source": [
    "### Part 3.3: Cat Boost (or LightGBM with categorical columns)"
   ]
  },
  {
   "cell_type": "markdown",
   "metadata": {},
   "source": [
    "## Part 4: Feature importances"
   ]
  },
  {
   "cell_type": "code",
   "execution_count": 130,
   "metadata": {},
   "outputs": [
    {
     "name": "stderr",
     "output_type": "stream",
     "text": [
      "Setting feature_perturbation = \"tree_path_dependent\" because no background data was given.\n"
     ]
    },
    {
     "data": {
      "image/png": "[encoded data removed]",
      "text/plain": [
       "<Figure size 576x684 with 1 Axes>"
      ]
     },
     "metadata": {
      "needs_background": "light"
     },
     "output_type": "display_data"
    }
   ],
   "source": [
    "#Extract feature names. The feature order is determined by the order in ColumnTransformer\n",
    "categorical_list = lgbm_pipeline.named_steps['preprocessor'].named_transformers_['cat'].named_steps['onehot'].get_feature_names(input_features=categorical_cols)\n",
    "all_features = ordinal_cols + list(categorical_list) + numerical_cols\n",
    "\n",
    "features_preprocessed = lgbm_pipeline.named_steps['preprocessor'].transform(features_train)\n",
    "\n",
    "shap_values = shap.TreeExplainer(lgbm_pipeline.named_steps['model_lgbm']).shap_values(features_preprocessed)\n",
    "shap.summary_plot(shap_values, features_preprocessed, plot_type='bar', feature_names = all_features)"
   ]
  },
  {
   "cell_type": "markdown",
   "metadata": {},
   "source": [
    "According to the model, year built is an even more important feature than the apartment size. This is surprising, and might not reflect the truth."
   ]
  },
  {
   "cell_type": "code",
   "execution_count": 137,
   "metadata": {},
   "outputs": [
    {
     "data": {
      "text/plain": [
       "<matplotlib.collections.PathCollection at 0x1a25008518>"
      ]
     },
     "execution_count": 137,
     "metadata": {},
     "output_type": "execute_result"
    },
    {
     "data": {
      "image/png": "[encoded data removed]",
      "text/plain": [
       "<Figure size 432x288 with 1 Axes>"
      ]
     },
     "metadata": {
      "needs_background": "light"
     },
     "output_type": "display_data"
    }
   ],
   "source": [
    "plt.scatter(df_ml['year_built'], df_ml['sqm'])"
   ]
  },
  {
   "cell_type": "code",
   "execution_count": 143,
   "metadata": {},
   "outputs": [],
   "source": [
    "tmp = df_ml.groupby('year_built')['sqm'].mean()\n",
    "    \n",
    "tmp['bins'] = pd.cut(x=tmp[''])"
   ]
  },
  {
   "cell_type": "markdown",
   "metadata": {},
   "source": [
    "## Part n: Below testing, unfinished parts"
   ]
  },
  {
   "cell_type": "code",
   "execution_count": 131,
   "metadata": {},
   "outputs": [
    {
     "name": "stdout",
     "output_type": "stream",
     "text": [
      "SQM prices: [7733.10771839918, 3994.0406697483045, 2972.7804480630452]\n",
      "Total prices: [324790.52417276555, 299553.0502311228, 341869.7515272502]\n"
     ]
    }
   ],
   "source": [
    "# Example apartments for fun\n",
    "\n",
    "known_apts = {'house_type' : ['kt', 'rt', 'rt'],\n",
    "        'sqm': [42, 75, 115],\n",
    "        'year_built': [1927, 2019, 1991],\n",
    "        'elevator': ['on', 'ei', 'ei'],\n",
    "        'condition': ['hyvä', 'hyvä', 'tyyd.'],\n",
    "        'plot_ownership':['oma', 'vuokra', 'oma'],\n",
    "        'postal_code':['00100', '02740', '00740'],\n",
    "        'floors':[7, 2, 2],\n",
    "        'current_floor':[3, 2, 2],\n",
    "        'floor_ratio':[3/7, 1, 1]}\n",
    "known_apts_names = ['mathias', 'harry', 'phki']\n",
    "\n",
    "known_apartments = pd.DataFrame.from_dict(known_apts)\n",
    "\n",
    "\n",
    "sqm_prices = list(random_forest_pipeline.predict(known_apartments))\n",
    "total_prices = list(sqm_prices * known_apartments['sqm'])\n",
    "print(f\"SQM prices: {sqm_prices}\")\n",
    "print(f\"Total prices: {total_prices}\")"
   ]
  },
  {
   "cell_type": "code",
   "execution_count": 132,
   "metadata": {
    "scrolled": true
   },
   "outputs": [
    {
     "name": "stdout",
     "output_type": "stream",
     "text": [
      "Apartment: mathias\n",
      "Random Forest: 7733\n",
      "LGBM: 8135\n",
      "\n",
      "Apartment: harry\n",
      "Random Forest: 3994\n",
      "LGBM: 3607\n",
      "\n",
      "Apartment: phki\n",
      "Random Forest: 2973\n",
      "LGBM: 2533\n",
      "\n"
     ]
    }
   ],
   "source": [
    "known_apts_rf = random_forest_pipeline.predict(known_apartments)\n",
    "known_apts_lgbm = lgbm_pipeline.predict(known_apartments)\n",
    "\n",
    "for i in range(len(known_apts_names)):\n",
    "    print(f\"Apartment: {known_apts_names[i]}\")\n",
    "    print(f\"Random Forest: {known_apts_rf[i]:.0f}\\nLGBM: {known_apts_lgbm[i]:.0f}\\n\")\n"
   ]
  },
  {
   "cell_type": "code",
   "execution_count": 133,
   "metadata": {},
   "outputs": [],
   "source": [
    "varied_sqm_apartments = {'house_type' : ['kt' for i in range(14)],\n",
    "        'sqm': [i for i in range(20,160,10)],\n",
    "        'year_built': [2000 for i in range(14)],\n",
    "        'elevator': ['on' for i in range(14)],\n",
    "        'condition': ['hyvä' for i in range(14)],\n",
    "        'plot_ownership':['oma' for i in range(14)],\n",
    "        'postal_code':['02300' for i in range(14)],\n",
    "        'floors':[5 for i in range(14)],\n",
    "        'current_floor':[4 for i in range(14)],\n",
    "        'floor_ratio':[4/5 for i in range(14)]}\n",
    "\n",
    "varied_age_apartments = {'house_type' : ['kt' for i in range(14)],\n",
    "        'sqm': [40 for i in range(14)],\n",
    "        'year_built': [1890+i*10 for i in range(14)],\n",
    "        'elevator': ['on' for i in range(14)],\n",
    "        'condition': ['hyvä' for i in range(14)],\n",
    "        'plot_ownership':['oma' for i in range(14)],\n",
    "        'postal_code':['02300' for i in range(14)],\n",
    "        'floors':[5 for i in range(14)],\n",
    "        'current_floor':[4 for i in range(14)],\n",
    "        'floor_ratio':[4/5 for i in range(14)]}\n",
    "\n",
    "varied_sqm_apartments = pd.DataFrame.from_dict(varied_sqm_apartments)\n",
    "varied_age_apartments = pd.DataFrame.from_dict(varied_age_apartments)\n"
   ]
  },
  {
   "cell_type": "code",
   "execution_count": 134,
   "metadata": {},
   "outputs": [
    {
     "data": {
      "text/plain": [
       "Text(0, 0.5, 'price per sqm (€)')"
      ]
     },
     "execution_count": 134,
     "metadata": {},
     "output_type": "execute_result"
    },
    {
     "data": {
      "image/png": "[encoded data removed]",
      "text/plain": [
       "<Figure size 1152x576 with 2 Axes>"
      ]
     },
     "metadata": {
      "needs_background": "light"
     },
     "output_type": "display_data"
    }
   ],
   "source": [
    "plt.figure(figsize=(16,8))\n",
    "plt.subplot(121)\n",
    "plt.plot(varied_sqm_apartments['sqm'], lgbm_pipeline.predict(varied_sqm_apartments))\n",
    "plt.xlabel('sqm (m^2)')\n",
    "plt.ylabel('price per sqm (€)')\n",
    "\n",
    "plt.subplot(122)\n",
    "plt.plot(varied_age_apartments['year_built'], lgbm_pipeline.predict(varied_age_apartments))\n",
    "plt.xlabel('year built')\n",
    "plt.ylabel('price per sqm (€)')"
   ]
  },
  {
   "cell_type": "markdown",
   "metadata": {},
   "source": [
    "## Next steps\n",
    "1. Improve model to good enough, most low hanging fruits picked\n",
    "2. Split to .py files\n",
    "3. Create very simple frontend\n",
    "4. Dockerise and publish on AWS for fun\n",
    "5. Optionally improve model, look for more/better data"
   ]
  },
  {
   "cell_type": "code",
   "execution_count": null,
   "metadata": {},
   "outputs": [],
   "source": []
  }
 ],
 "metadata": {
  "kernelspec": {
   "display_name": "Python 3",
   "language": "python",
   "name": "python3"
  },
  "language_info": {
   "codemirror_mode": {
    "name": "ipython",
    "version": 3
   },
   "file_extension": ".py",
   "mimetype": "text/x-python",
   "name": "python",
   "nbconvert_exporter": "python",
   "pygments_lexer": "ipython3",
   "version": "3.6.9"
  }
 },
 "nbformat": 4,
 "nbformat_minor": 2
}
